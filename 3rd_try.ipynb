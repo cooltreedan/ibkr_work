{
 "cells": [
  {
   "cell_type": "code",
   "execution_count": 2,
   "metadata": {},
   "outputs": [
    {
     "data": {
      "text/plain": [
       "<IB connected to 10.0.0.209:7497 clientId=1>"
      ]
     },
     "execution_count": 2,
     "metadata": {},
     "output_type": "execute_result"
    }
   ],
   "source": [
    "from pprint import *\n",
    "from ib_insync import *\n",
    "util.startLoop()  # uncomment this line when in a notebook\n",
    "\n",
    "ib = IB() # making a IB class\n",
    "ib.connect('10.0.0.209', 7497, clientId=1)"
   ]
  },
  {
   "cell_type": "code",
   "execution_count": 3,
   "metadata": {},
   "outputs": [],
   "source": [
    "def place_order(direction, qty, df, tp, sl):\n",
    "    bracket_order = ib.bracketOrder(\n",
    "        direction,\n",
    "        qty,\n",
    "        limitPrice=df.close.iloc[-1],\n",
    "        takeProfitPrice=tp,\n",
    "        stopLossPrice=sl,\n",
    "    )\n",
    "\n",
    "    for ord in bracket_order:\n",
    "        ib.placeOrder(Contract, ord)"
   ]
  },
  {
   "cell_type": "code",
   "execution_count": null,
   "metadata": {},
   "outputs": [],
   "source": [
    "def on_new_bar(bars: BarDataList, has_new_bar: bool):\n",
    "    if has_new_bar:\n",
    "        df = util.df(data)\n",
    "        sma = df.close.tail(50).mean()\n",
    "        std_dev = df.close.tail(50).std() * 3\n",
    "\n",
    "        # Check if we are in a trade\n",
    "        if contract no in [i.contract for i in ib.position()]:\n",
    "            # We are no in a trade - look for signal\n",
    "            if df.close.iloc[-1] > sma + std_dev:\n",
    "                # trading more than 3 standard deviations above average - SELL\n",
    "                place_order('SELL', 1, df, sma, sma + std_dev * 2)\n",
    "            elif df.close.iloc[-1] < sma - std_dev:\n",
    "                # trading more than 3 standard deviations below average - BUY\n",
    "                place_order('BUY', 1, df, sma, sma=std_dev *2)"
   ]
  }
 ],
 "metadata": {
  "kernelspec": {
   "display_name": "Python 3",
   "language": "python",
   "name": "python3"
  },
  "language_info": {
   "codemirror_mode": {
    "name": "ipython",
    "version": 3
   },
   "file_extension": ".py",
   "mimetype": "text/x-python",
   "name": "python",
   "nbconvert_exporter": "python",
   "pygments_lexer": "ipython3",
   "version": "3.9.6"
  }
 },
 "nbformat": 4,
 "nbformat_minor": 2
}
