{
 "cells": [
  {
   "cell_type": "code",
   "execution_count": 1,
   "metadata": {},
   "outputs": [
    {
     "data": {
      "text/plain": [
       "<IB connected to 10.0.0.209:7497 clientId=1>"
      ]
     },
     "execution_count": 1,
     "metadata": {},
     "output_type": "execute_result"
    },
    {
     "name": "stderr",
     "output_type": "stream",
     "text": [
      "Error 1100, reqId -1: Connectivity between IBKR and Trader Workstation has been lost.\n",
      "Error 1102, reqId -1: Connectivity between IBKR and Trader Workstation has been restored - data maintained. All data farms are connected: usfarm.nj; usfuture; usfarm; ushmds; secdefil.\n",
      "Error 1100, reqId -1: Connectivity between IBKR and Trader Workstation has been lost.\n",
      "Peer closed connection.\n"
     ]
    }
   ],
   "source": [
    "from pprint import *\n",
    "from ib_insync import *\n",
    "util.startLoop()  # uncomment this line when in a notebook\n",
    "\n",
    "ib = IB() # making a IB class\n",
    "# ib.connect('127.0.0.1', 7497, clientId=3)\n",
    "ib.connect('10.0.0.209', 7497, clientId=1)"
   ]
  },
  {
   "cell_type": "code",
   "execution_count": 2,
   "metadata": {},
   "outputs": [
    {
     "name": "stdout",
     "output_type": "stream",
     "text": [
      "Future(conId=620731036, symbol='MES', lastTradeDateOrContractMonth='20240621', multiplier='5', exchange='CME', currency='USD', localSymbol='MESM4', tradingClass='MES')\n"
     ]
    }
   ],
   "source": [
    "f = Future(symbol='MES', lastTradeDateOrContractMonth='202406', exchange='CME', currency='USD') # valid instrument - Future\n",
    "contract = ib.qualifyContracts(f)[0]\n",
    "pprint(contract)"
   ]
  },
  {
   "cell_type": "code",
   "execution_count": 3,
   "metadata": {},
   "outputs": [
    {
     "name": "stdout",
     "output_type": "stream",
     "text": [
      "Market Buy Order: \n",
      "\t Filled \n",
      "\t for 10.0 shares \n",
      "\t @ 5241.5\n",
      "Stop Loss Order: \n",
      "\t PendingSubmit \n",
      "\t for 10.0 shares\n",
      "\t @ 5231.5\n",
      "Profit Order: \n",
      "\t PendingSubmit \n",
      "\t for 8.0 shares\n",
      "\t @ 5251.5\n",
      "Submitted\n"
     ]
    }
   ],
   "source": [
    "def mkt_buy(shares = 10):\n",
    "    mkt_buy_ord = MarketOrder('BUY', totalQuantity=shares)\n",
    "    mkt_buy_trades = ib.placeOrder(contract, mkt_buy_ord)\n",
    "    ib.sleep(2)\n",
    "    # pprint(mkt_buy_trades) #等2秒过后，这个时候的order已经被fill了，所以打印出来的信息，就已经包括了所有的order的信息了\n",
    "    print('Market Buy Order: \\n\\t {0} \\n\\t for {1} shares \\n\\t @ {2}'.format(mkt_buy_trades.orderStatus.status, mkt_buy_trades.fills[0].execution.shares, mkt_buy_trades.fills[0].execution.price))\n",
    "    return(mkt_buy_trades)\n",
    "\n",
    "\n",
    "def stp_sell(shares, price):\n",
    "    stp_ord = StopOrder(action='SELL', totalQuantity=shares, stopPrice=price, tif='GTC', outsideRth=True)\n",
    "    stp_trades = ib.placeOrder(contract, stp_ord)\n",
    "    # pprint(stp_trades)\n",
    "    print('Stop Loss Order: \\n\\t {0} \\n\\t for {1} shares\\n\\t @ {2}'.format(stp_trades.orderStatus.status, stp_trades.order.totalQuantity, stp_trades.order.auxPrice))\n",
    "    return(stp_trades)\n",
    "\n",
    "\n",
    "def lmt_sell(shares, price):\n",
    "    lmt_ord = LimitOrder(action='SELL', totalQuantity=shares, lmtPrice=price, tif='GTC')\n",
    "    lmt_trades = ib.placeOrder(contract, lmt_ord)\n",
    "    # pprint(lmt_trades)\n",
    "    print('Profit Order: \\n\\t {0} \\n\\t for {1} shares\\n\\t @ {2}'.format(lmt_trades.orderStatus.status, lmt_trades.order.totalQuantity, lmt_trades.order.lmtPrice))\n",
    "    return(lmt_trades)\n",
    "\n",
    "\n",
    "#1, market price buy order \n",
    "put_mkt_buy_quantity = int(input('How many shares to buy?(Default = 10)') or '10')\n",
    "put_mkt_buy_trade = mkt_buy(put_mkt_buy_quantity)\n",
    "\n",
    "put_mkt_buy_trade_filled_price = put_mkt_buy_trade.fills[0].execution.price\n",
    "put_mkt_buy_trade_filled_quantity = put_mkt_buy_trade.fills[0].execution.shares\n",
    "\n",
    "#2, stop loss STP order\n",
    "put_stp_sell_trade = stp_sell(put_mkt_buy_trade_filled_quantity, put_mkt_buy_trade_filled_price - 10)\n",
    "\n",
    "\n",
    "#3, profit LMT order\n",
    "put_lmt_sell_trade = lmt_sell(put_mkt_buy_trade_filled_quantity - 2, put_mkt_buy_trade_filled_price + 10)\n",
    "ib.sleep(1)\n",
    "print(put_lmt_sell_trade.orderStatus.status)\n",
    "\n"
   ]
  },
  {
   "cell_type": "code",
   "execution_count": 4,
   "metadata": {},
   "outputs": [
    {
     "name": "stdout",
     "output_type": "stream",
     "text": [
      "Current Stop Loss Order Price: 5231.5\n",
      "Stop Order Price now changed to 5239.0\n"
     ]
    }
   ],
   "source": [
    "assert put_stp_sell_trade in ib.openTrades()\n",
    "assert put_stp_sell_trade.orderStatus.status == 'PreSubmitted'\n",
    "\n",
    "print('Current Stop Loss Order Price: ' + str(put_stp_sell_trade.order.auxPrice))\n",
    "put_stp_sell_trade.order.auxPrice = float(input('What is the proper stop price? ')or put_stp_sell_trade.order.auxPrice)\n",
    "adj_stp_sell_trade = ib.placeOrder(contract, put_stp_sell_trade.order)\n",
    "print('Stop Order Price now changed to '+ str(put_stp_sell_trade.order.auxPrice))\n",
    "\n"
   ]
  },
  {
   "cell_type": "code",
   "execution_count": 5,
   "metadata": {},
   "outputs": [
    {
     "name": "stdout",
     "output_type": "stream",
     "text": [
      "Current Profit Taken Order Quantiny: 8.0\n",
      "Current Profit Taken Order Price: 5251.5\n",
      "Profit Taken Order LTM Quantity now changed to: 7.0\n",
      "Profit Taken Order LTM Price now changed to: 5243.0\n"
     ]
    }
   ],
   "source": [
    "assert put_lmt_sell_trade in ib.openTrades()\n",
    "assert put_lmt_sell_trade.orderStatus.status == 'Submitted'\n",
    "print('Current Profit Taken Order Quantiny: ' + str(put_lmt_sell_trade.order.totalQuantity))\n",
    "put_lmt_sell_trade.order.totalQuantity = float(input('Quantity number change to? (hit enter for no change)') or put_lmt_sell_trade.order.totalQuantity)\n",
    "\n",
    "print('Current Profit Taken Order Price: ' + str(put_lmt_sell_trade.order.lmtPrice))\n",
    "put_lmt_sell_trade.order.lmtPrice = float(input('What is the proper LMT price? ') or put_lmt_sell_trade.order.lmtPrice)\n",
    "adj_lmt_sell_trade = ib.placeOrder(contract, put_lmt_sell_trade.order)\n",
    "print('Profit Taken Order LTM Quantity now changed to: ' + str(put_lmt_sell_trade.order.totalQuantity))\n",
    "print('Profit Taken Order LTM Price now changed to: ' + str(put_lmt_sell_trade.order.lmtPrice))"
   ]
  },
  {
   "cell_type": "markdown",
   "metadata": {},
   "source": [
    "### Define a trade filled event"
   ]
  },
  {
   "cell_type": "code",
   "execution_count": 6,
   "metadata": {},
   "outputs": [],
   "source": [
    "def on_fill_event(trade:Trade, fill:Fill):\n",
    "    print('ONE TRADE FILLED EVENT')\n",
    "    # print('TRADE ORDER STATUS', trade.orderStatus.status)\n",
    "    # print('TRADE CONTRACT', trade.contract)\n",
    "    # print('FILL CONTRACT', fill.contract)\n",
    "    # print('FILL PERM ID', fill.execution.permId)\n",
    "    # print('SHARES', fill.execution.shares)\n",
    "    # print('SIDE', fill.execution.side)\n",
    "    # print('PRICE', fill.execution.price)\n",
    "    # print(' ')\n",
    "    print(' ')"
   ]
  },
  {
   "cell_type": "markdown",
   "metadata": {},
   "source": [
    "### if one of the trade filled, put a order"
   ]
  },
  {
   "cell_type": "code",
   "execution_count": 7,
   "metadata": {},
   "outputs": [],
   "source": [
    "def place_order_with_callbacks(contract, order):\n",
    "    trade = ib.placeOrder(contract, order)\n",
    "    trade.fillEvent += on_fill_event\n",
    "    return(trade)"
   ]
  },
  {
   "cell_type": "code",
   "execution_count": 8,
   "metadata": {},
   "outputs": [],
   "source": [
    "def cancel_order_with_callbacks(order):\n",
    "    trade = ib.cancelOrder(order)\n",
    "    trade.cancelEvent += cancel_order_with_callbacks\n",
    "    return(order)"
   ]
  },
  {
   "cell_type": "markdown",
   "metadata": {},
   "source": [
    "#### profit order filled, modify stp order"
   ]
  },
  {
   "cell_type": "code",
   "execution_count": 9,
   "metadata": {},
   "outputs": [],
   "source": [
    "def after_lmt_then_stop_sell_trade(adj_lmt_sell_trade_inst, adj_stp_sell_trade_inst, put_mkt_buy_trade_filled_price_int):\n",
    "    adj_stp_sell_trade_inst.order.totalQuantity -= adj_lmt_sell_trade_inst.fills[0].execution.shares\n",
    "    adj_stp_sell_trade_inst.order.lmtPrice = put_mkt_buy_trade_filled_price_int - 2\n",
    "    print('Profit Taken Order Filled, \\n\\t sell {0} shares @ {1}'.format(adj_lmt_sell_trade_inst.order.totalQuantity,adj_lmt_sell_trade_inst.fills[0].execution.price))\n",
    "    return(adj_stp_sell_trade_inst)"
   ]
  },
  {
   "cell_type": "code",
   "execution_count": 11,
   "metadata": {},
   "outputs": [],
   "source": [
    "while not bool(adj_lmt_sell_trade.fills or adj_stp_sell_trade.fills):\n",
    "    continue\n",
    "else:\n",
    "    if bool(adj_lmt_sell_trade.fills):\n",
    "        after_lmt_then_final_stop_sell_trade = after_lmt_then_stop_sell_trade(adj_lmt_sell_trade, adj_stp_sell_trade, put_mkt_buy_trade_filled_price)\n",
    "        place_order_with_callbacks(contract, after_lmt_then_final_stop_sell_trade.order)\n",
    "    elif bool(adj_stp_sell_trade.fills):\n",
    "        cancel_order_with_callbacks(adj_lmt_sell_trade.order)\n",
    "\n"
   ]
  },
  {
   "cell_type": "code",
   "execution_count": 18,
   "metadata": {},
   "outputs": [
    {
     "data": {
      "text/plain": [
       "Event<fillEvent, []>"
      ]
     },
     "execution_count": 18,
     "metadata": {},
     "output_type": "execute_result"
    }
   ],
   "source": [
    "adj_lmt_sell_trade.fillEvent"
   ]
  },
  {
   "cell_type": "code",
   "execution_count": 16,
   "metadata": {},
   "outputs": [
    {
     "data": {
      "text/plain": [
       "Event<fillEvent, []>"
      ]
     },
     "execution_count": 16,
     "metadata": {},
     "output_type": "execute_result"
    }
   ],
   "source": [
    "adj_stp_sell_trade.fillEvent"
   ]
  },
  {
   "cell_type": "code",
   "execution_count": null,
   "metadata": {},
   "outputs": [],
   "source": []
  }
 ],
 "metadata": {
  "kernelspec": {
   "display_name": "ibkr_api",
   "language": "python",
   "name": "python3"
  },
  "language_info": {
   "codemirror_mode": {
    "name": "ipython",
    "version": 3
   },
   "file_extension": ".py",
   "mimetype": "text/x-python",
   "name": "python",
   "nbconvert_exporter": "python",
   "pygments_lexer": "ipython3",
   "version": "3.9.6"
  }
 },
 "nbformat": 4,
 "nbformat_minor": 2
}
