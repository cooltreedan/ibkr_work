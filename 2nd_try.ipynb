{
 "cells": [
  {
   "cell_type": "code",
   "execution_count": 1,
   "metadata": {},
   "outputs": [
    {
     "data": {
      "text/plain": [
       "<IB connected to 10.0.0.209:7497 clientId=3>"
      ]
     },
     "execution_count": 1,
     "metadata": {},
     "output_type": "execute_result"
    },
    {
     "name": "stderr",
     "output_type": "stream",
     "text": [
      "Error 10089, reqId 11: Requested market data requires additional subscription for API. See link in 'Market Data Connections' dialog for more details.Delayed market data is available.NFLX NASDAQ.NMS/TOP/ALL, contract: Stock(conId=15124833, symbol='NFLX', exchange='SMART', primaryExchange='NASDAQ', currency='USD', localSymbol='NFLX', tradingClass='NMS')\n",
      "Error 103, reqId 18: Duplicate order id\n",
      "Error 103, reqId 19: Duplicate order id\n",
      "Error 103, reqId 19: Duplicate order id\n",
      "Error 104, reqId 23: Cannot modify a filled order.\n",
      "Error 104, reqId 31: Cannot modify a filled order.\n",
      "Value (Trade(contract=Stock(conId=15124833, symbol='NFLX', exchange='SMART', primaryExchange='NASDAQ', currency='USD', localSymbol='NFLX', tradingClass='NMS'), order=MarketOrder(orderId=40, clientId=3, permId=2124326699, action='BUY', totalQuantity=2.0, lmtPrice=0.0, auxPrice=0.0), orderStatus=OrderStatus(orderId=40, status='Filled', filled=2.0, remaining=0.0, avgFillPrice=636.95, permId=2124326699, parentId=0, lastFillPrice=636.95, clientId=3, whyHeld='', mktCapPrice=0.0), fills=[Fill(contract=Stock(conId=15124833, symbol='NFLX', exchange='SMART', primaryExchange='NASDAQ', currency='USD', localSymbol='NFLX', tradingClass='NMS'), execution=Execution(execId='00012ec5.660f8b78.01.01', time=datetime.datetime(2024, 4, 4, 17, 11, 17, tzinfo=datetime.timezone.utc), acctNumber='DU8538876', exchange='NASDAQ', side='BOT', shares=2.0, price=636.95, permId=2124326699, clientId=3, orderId=40, liquidation=0, cumQty=2.0, avgPrice=636.95, orderRef='', evRule='', evMultiplier=0.0, modelCode='', lastLiquidity=1), commissionReport=CommissionReport(execId='', commission=0.0, currency='', realizedPNL=0.0, yield_=0.0, yieldRedemptionDate=0), time=datetime.datetime(2024, 4, 4, 17, 11, 17, 779650, tzinfo=datetime.timezone.utc))], log=[TradeLogEntry(time=datetime.datetime(2024, 4, 4, 17, 1, 52, 847107, tzinfo=datetime.timezone.utc), status='PendingSubmit', message='', errorCode=0), TradeLogEntry(time=datetime.datetime(2024, 4, 4, 17, 1, 52, 969185, tzinfo=datetime.timezone.utc), status='Submitted', message='', errorCode=0), TradeLogEntry(time=datetime.datetime(2024, 4, 4, 17, 11, 17, 779650, tzinfo=datetime.timezone.utc), status='Submitted', message='Fill 2.0@636.95', errorCode=0), TradeLogEntry(time=datetime.datetime(2024, 4, 4, 17, 11, 17, 780660, tzinfo=datetime.timezone.utc), status='Filled', message='', errorCode=0)], advancedError=''),) caused exception for event Event<filledEvent, [[None, None, <function order_status at 0x13459f040>]]>\n",
      "Traceback (most recent call last):\n",
      "  File \"/Users/macintrash/Library/Python/3.9/lib/python/site-packages/eventkit/event.py\", line 202, in emit\n",
      "    result = func(*args)\n",
      "  File \"/var/folders/k6/7r4c3clj1p5_6s48qw6qkwf80000gn/T/ipykernel_17783/2314307884.py\", line 2, in order_status\n",
      "    if trade.OrderStatus.status == 'Filled':\n",
      "AttributeError: 'Trade' object has no attribute 'OrderStatus'\n",
      "Peer closed connection.\n"
     ]
    }
   ],
   "source": [
    "from pprint import *\n",
    "from ib_insync import *\n",
    "util.startLoop()  # uncomment this line when in a notebook\n",
    "\n",
    "ib = IB() # making a IB class\n",
    "# ib.connect('127.0.0.1', 7497, clientId=2)\n",
    "ib.connect('10.0.0.209', 7497, clientId=3)"
   ]
  },
  {
   "cell_type": "code",
   "execution_count": 2,
   "metadata": {},
   "outputs": [
    {
     "data": {
      "text/plain": [
       "[Stock(conId=15124833, symbol='NFLX', exchange='SMART', primaryExchange='NASDAQ', currency='USD', localSymbol='NFLX', tradingClass='NMS')]"
      ]
     },
     "execution_count": 2,
     "metadata": {},
     "output_type": "execute_result"
    }
   ],
   "source": [
    "nflx_contract = Stock('NFLX', 'SMART', 'USD')\n",
    "ib.qualifyContracts(nflx_contract)"
   ]
  },
  {
   "cell_type": "code",
   "execution_count": 3,
   "metadata": {},
   "outputs": [],
   "source": [
    "data = ib.reqMktData(nflx_contract)"
   ]
  },
  {
   "cell_type": "code",
   "execution_count": 4,
   "metadata": {},
   "outputs": [
    {
     "data": {
      "text/plain": [
       "nan"
      ]
     },
     "execution_count": 4,
     "metadata": {},
     "output_type": "execute_result"
    }
   ],
   "source": [
    "data.marketPrice()"
   ]
  },
  {
   "cell_type": "code",
   "execution_count": 5,
   "metadata": {},
   "outputs": [
    {
     "data": {
      "text/plain": [
       "[Forex('EURUSD', conId=12087792, exchange='IDEALPRO', localSymbol='EUR.USD', tradingClass='EUR.USD')]"
      ]
     },
     "execution_count": 5,
     "metadata": {},
     "output_type": "execute_result"
    }
   ],
   "source": [
    "eur_usd_contract = Forex('EURUSD', 'IDEALPRO')\n",
    "ib.qualifyContracts(eur_usd_contract)"
   ]
  },
  {
   "cell_type": "code",
   "execution_count": 6,
   "metadata": {},
   "outputs": [
    {
     "data": {
      "text/plain": [
       "[Future(conId=662532985, symbol='BRR', lastTradeDateOrContractMonth='20240426', multiplier='5', exchange='CME', currency='USD', localSymbol='BTCJ4', tradingClass='BTC')]"
      ]
     },
     "execution_count": 6,
     "metadata": {},
     "output_type": "execute_result"
    }
   ],
   "source": [
    "btc_fut_contract = Future('BRR', '20240426', 'CME')\n",
    "ib.qualifyContracts(btc_fut_contract)\n"
   ]
  },
  {
   "cell_type": "code",
   "execution_count": 8,
   "metadata": {},
   "outputs": [
    {
     "data": {
      "text/plain": [
       "[ContFuture(conId=662532985, symbol='BRR', lastTradeDateOrContractMonth='20240426', multiplier='5', exchange='CME', currency='USD', localSymbol='BTCJ4', tradingClass='BTC')]"
      ]
     },
     "execution_count": 8,
     "metadata": {},
     "output_type": "execute_result"
    }
   ],
   "source": [
    "btc_fut_cont_contract = ContFuture('BRR', 'CME')\n",
    "ib.qualifyContracts(btc_fut_cont_contract)"
   ]
  },
  {
   "cell_type": "code",
   "execution_count": 9,
   "metadata": {},
   "outputs": [
    {
     "data": {
      "text/plain": [
       "[CFD(conId=457068913, symbol='XAUUSD', exchange='SMART', currency='USD', localSymbol='XAUUSD', tradingClass='XAUUSD')]"
      ]
     },
     "execution_count": 9,
     "metadata": {},
     "output_type": "execute_result"
    }
   ],
   "source": [
    "gold_cfd_contract = CFD('XAUUSD')\n",
    "ib.qualifyContracts(gold_cfd_contract)"
   ]
  },
  {
   "cell_type": "code",
   "execution_count": 10,
   "metadata": {},
   "outputs": [],
   "source": [
    "historical_data_nflx = ib.reqHistoricalData(\n",
    "    nflx_contract,\n",
    "    '',\n",
    "    barSizeSetting='15 mins',\n",
    "    durationStr='2 D',\n",
    "    whatToShow='MIDPOINT',\n",
    "    useRTH=True\n",
    ")"
   ]
  },
  {
   "cell_type": "code",
   "execution_count": 11,
   "metadata": {},
   "outputs": [
    {
     "data": {
      "text/plain": [
       "[BarData(date=datetime.datetime(2024, 4, 3, 9, 30, tzinfo=zoneinfo.ZoneInfo(key='US/Eastern')), open=612.0, high=618.32, low=611.78, close=616.09, volume=-1.0, average=-1.0, barCount=-1),\n",
       " BarData(date=datetime.datetime(2024, 4, 3, 9, 45, tzinfo=zoneinfo.ZoneInfo(key='US/Eastern')), open=616.09, high=616.44, low=614.41, close=615.97, volume=-1.0, average=-1.0, barCount=-1),\n",
       " BarData(date=datetime.datetime(2024, 4, 3, 10, 0, tzinfo=zoneinfo.ZoneInfo(key='US/Eastern')), open=615.97, high=621.15, low=615.97, close=620.85, volume=-1.0, average=-1.0, barCount=-1),\n",
       " BarData(date=datetime.datetime(2024, 4, 3, 10, 15, tzinfo=zoneinfo.ZoneInfo(key='US/Eastern')), open=620.85, high=623.81, low=620.82, close=623.32, volume=-1.0, average=-1.0, barCount=-1),\n",
       " BarData(date=datetime.datetime(2024, 4, 3, 10, 30, tzinfo=zoneinfo.ZoneInfo(key='US/Eastern')), open=623.32, high=623.85, low=621.81, close=623.37, volume=-1.0, average=-1.0, barCount=-1),\n",
       " BarData(date=datetime.datetime(2024, 4, 3, 10, 45, tzinfo=zoneinfo.ZoneInfo(key='US/Eastern')), open=623.37, high=625.9, low=623.37, close=625.65, volume=-1.0, average=-1.0, barCount=-1),\n",
       " BarData(date=datetime.datetime(2024, 4, 3, 11, 0, tzinfo=zoneinfo.ZoneInfo(key='US/Eastern')), open=625.65, high=628.14, low=625.65, close=627.11, volume=-1.0, average=-1.0, barCount=-1),\n",
       " BarData(date=datetime.datetime(2024, 4, 3, 11, 15, tzinfo=zoneinfo.ZoneInfo(key='US/Eastern')), open=627.11, high=627.82, low=626.23, close=626.79, volume=-1.0, average=-1.0, barCount=-1),\n",
       " BarData(date=datetime.datetime(2024, 4, 3, 11, 30, tzinfo=zoneinfo.ZoneInfo(key='US/Eastern')), open=626.79, high=627.31, low=625.82, close=626.07, volume=-1.0, average=-1.0, barCount=-1),\n",
       " BarData(date=datetime.datetime(2024, 4, 3, 11, 45, tzinfo=zoneinfo.ZoneInfo(key='US/Eastern')), open=626.07, high=626.07, low=623.64, close=624.3, volume=-1.0, average=-1.0, barCount=-1),\n",
       " BarData(date=datetime.datetime(2024, 4, 3, 12, 0, tzinfo=zoneinfo.ZoneInfo(key='US/Eastern')), open=624.3, high=624.47, low=623.07, close=623.93, volume=-1.0, average=-1.0, barCount=-1),\n",
       " BarData(date=datetime.datetime(2024, 4, 3, 12, 15, tzinfo=zoneinfo.ZoneInfo(key='US/Eastern')), open=623.93, high=626.46, low=623.34, close=626.46, volume=-1.0, average=-1.0, barCount=-1),\n",
       " BarData(date=datetime.datetime(2024, 4, 3, 12, 30, tzinfo=zoneinfo.ZoneInfo(key='US/Eastern')), open=626.46, high=627.15, low=624.73, close=626.14, volume=-1.0, average=-1.0, barCount=-1),\n",
       " BarData(date=datetime.datetime(2024, 4, 3, 12, 45, tzinfo=zoneinfo.ZoneInfo(key='US/Eastern')), open=626.14, high=627.79, low=626.05, close=627.24, volume=-1.0, average=-1.0, barCount=-1),\n",
       " BarData(date=datetime.datetime(2024, 4, 3, 13, 0, tzinfo=zoneinfo.ZoneInfo(key='US/Eastern')), open=627.24, high=627.56, low=626.78, close=627.03, volume=-1.0, average=-1.0, barCount=-1),\n",
       " BarData(date=datetime.datetime(2024, 4, 3, 13, 15, tzinfo=zoneinfo.ZoneInfo(key='US/Eastern')), open=627.03, high=628.08, low=626.52, close=627.93, volume=-1.0, average=-1.0, barCount=-1),\n",
       " BarData(date=datetime.datetime(2024, 4, 3, 13, 30, tzinfo=zoneinfo.ZoneInfo(key='US/Eastern')), open=627.93, high=628.16, low=626.69, close=627.45, volume=-1.0, average=-1.0, barCount=-1),\n",
       " BarData(date=datetime.datetime(2024, 4, 3, 13, 45, tzinfo=zoneinfo.ZoneInfo(key='US/Eastern')), open=627.45, high=627.65, low=626.74, close=627.03, volume=-1.0, average=-1.0, barCount=-1),\n",
       " BarData(date=datetime.datetime(2024, 4, 3, 14, 0, tzinfo=zoneinfo.ZoneInfo(key='US/Eastern')), open=627.03, high=627.78, low=626.82, close=627.18, volume=-1.0, average=-1.0, barCount=-1),\n",
       " BarData(date=datetime.datetime(2024, 4, 3, 14, 15, tzinfo=zoneinfo.ZoneInfo(key='US/Eastern')), open=627.18, high=627.72, low=626.33, close=626.51, volume=-1.0, average=-1.0, barCount=-1),\n",
       " BarData(date=datetime.datetime(2024, 4, 3, 14, 30, tzinfo=zoneinfo.ZoneInfo(key='US/Eastern')), open=626.51, high=628.11, low=626.45, close=627.79, volume=-1.0, average=-1.0, barCount=-1),\n",
       " BarData(date=datetime.datetime(2024, 4, 3, 14, 45, tzinfo=zoneinfo.ZoneInfo(key='US/Eastern')), open=627.79, high=627.86, low=626.45, close=626.74, volume=-1.0, average=-1.0, barCount=-1),\n",
       " BarData(date=datetime.datetime(2024, 4, 3, 15, 0, tzinfo=zoneinfo.ZoneInfo(key='US/Eastern')), open=626.74, high=627.5, low=625.81, close=626.23, volume=-1.0, average=-1.0, barCount=-1),\n",
       " BarData(date=datetime.datetime(2024, 4, 3, 15, 15, tzinfo=zoneinfo.ZoneInfo(key='US/Eastern')), open=626.23, high=627.73, low=624.86, close=627.1, volume=-1.0, average=-1.0, barCount=-1),\n",
       " BarData(date=datetime.datetime(2024, 4, 3, 15, 30, tzinfo=zoneinfo.ZoneInfo(key='US/Eastern')), open=627.1, high=628.58, low=626.38, close=628.22, volume=-1.0, average=-1.0, barCount=-1),\n",
       " BarData(date=datetime.datetime(2024, 4, 3, 15, 45, tzinfo=zoneinfo.ZoneInfo(key='US/Eastern')), open=628.22, high=630.29, low=628.21, close=630.27, volume=-1.0, average=-1.0, barCount=-1),\n",
       " BarData(date=datetime.datetime(2024, 4, 4, 9, 30, tzinfo=zoneinfo.ZoneInfo(key='US/Eastern')), open=632.74, high=638.12, low=631.05, close=632.76, volume=-1.0, average=-1.0, barCount=-1),\n",
       " BarData(date=datetime.datetime(2024, 4, 4, 9, 45, tzinfo=zoneinfo.ZoneInfo(key='US/Eastern')), open=632.76, high=634.47, low=631.36, close=634.15, volume=-1.0, average=-1.0, barCount=-1),\n",
       " BarData(date=datetime.datetime(2024, 4, 4, 10, 0, tzinfo=zoneinfo.ZoneInfo(key='US/Eastern')), open=634.15, high=635.06, low=632.83, close=633.55, volume=-1.0, average=-1.0, barCount=-1),\n",
       " BarData(date=datetime.datetime(2024, 4, 4, 10, 15, tzinfo=zoneinfo.ZoneInfo(key='US/Eastern')), open=633.55, high=635.25, low=632.95, close=634.11, volume=-1.0, average=-1.0, barCount=-1),\n",
       " BarData(date=datetime.datetime(2024, 4, 4, 10, 30, tzinfo=zoneinfo.ZoneInfo(key='US/Eastern')), open=634.11, high=634.2, low=631.55, close=632.36, volume=-1.0, average=-1.0, barCount=-1),\n",
       " BarData(date=datetime.datetime(2024, 4, 4, 10, 45, tzinfo=zoneinfo.ZoneInfo(key='US/Eastern')), open=632.36, high=633.91, low=631.63, close=633.77, volume=-1.0, average=-1.0, barCount=-1),\n",
       " BarData(date=datetime.datetime(2024, 4, 4, 11, 0, tzinfo=zoneinfo.ZoneInfo(key='US/Eastern')), open=633.77, high=634.68, low=633.76, close=634.38, volume=-1.0, average=-1.0, barCount=-1)]"
      ]
     },
     "execution_count": 11,
     "metadata": {},
     "output_type": "execute_result"
    }
   ],
   "source": [
    "historical_data_nflx"
   ]
  },
  {
   "cell_type": "code",
   "execution_count": 13,
   "metadata": {},
   "outputs": [
    {
     "data": {
      "text/plain": [
       "ib_insync.objects.BarDataList"
      ]
     },
     "execution_count": 13,
     "metadata": {},
     "output_type": "execute_result"
    }
   ],
   "source": [
    "type(historical_data_nflx)"
   ]
  },
  {
   "cell_type": "code",
   "execution_count": 14,
   "metadata": {},
   "outputs": [
    {
     "data": {
      "text/plain": [
       "BarData(date=datetime.datetime(2024, 4, 4, 11, 0, tzinfo=zoneinfo.ZoneInfo(key='US/Eastern')), open=633.77, high=634.68, low=633.76, close=634.38, volume=-1.0, average=-1.0, barCount=-1)"
      ]
     },
     "execution_count": 14,
     "metadata": {},
     "output_type": "execute_result"
    }
   ],
   "source": [
    "historical_data_nflx[-1]"
   ]
  },
  {
   "cell_type": "code",
   "execution_count": 15,
   "metadata": {},
   "outputs": [
    {
     "data": {
      "text/plain": [
       "633.77"
      ]
     },
     "execution_count": 15,
     "metadata": {},
     "output_type": "execute_result"
    }
   ],
   "source": [
    "historical_data_nflx[-1].open"
   ]
  },
  {
   "cell_type": "code",
   "execution_count": 17,
   "metadata": {},
   "outputs": [],
   "source": [
    "from pandas import *"
   ]
  },
  {
   "cell_type": "code",
   "execution_count": 18,
   "metadata": {},
   "outputs": [
    {
     "data": {
      "text/html": [
       "<div>\n",
       "<style scoped>\n",
       "    .dataframe tbody tr th:only-of-type {\n",
       "        vertical-align: middle;\n",
       "    }\n",
       "\n",
       "    .dataframe tbody tr th {\n",
       "        vertical-align: top;\n",
       "    }\n",
       "\n",
       "    .dataframe thead th {\n",
       "        text-align: right;\n",
       "    }\n",
       "</style>\n",
       "<table border=\"1\" class=\"dataframe\">\n",
       "  <thead>\n",
       "    <tr style=\"text-align: right;\">\n",
       "      <th></th>\n",
       "      <th>date</th>\n",
       "      <th>open</th>\n",
       "      <th>high</th>\n",
       "      <th>low</th>\n",
       "      <th>close</th>\n",
       "      <th>volume</th>\n",
       "      <th>average</th>\n",
       "      <th>barCount</th>\n",
       "    </tr>\n",
       "  </thead>\n",
       "  <tbody>\n",
       "    <tr>\n",
       "      <th>0</th>\n",
       "      <td>2024-04-03 09:30:00-04:00</td>\n",
       "      <td>612.00</td>\n",
       "      <td>618.32</td>\n",
       "      <td>611.78</td>\n",
       "      <td>616.09</td>\n",
       "      <td>-1.0</td>\n",
       "      <td>-1.0</td>\n",
       "      <td>-1</td>\n",
       "    </tr>\n",
       "    <tr>\n",
       "      <th>1</th>\n",
       "      <td>2024-04-03 09:45:00-04:00</td>\n",
       "      <td>616.09</td>\n",
       "      <td>616.44</td>\n",
       "      <td>614.41</td>\n",
       "      <td>615.97</td>\n",
       "      <td>-1.0</td>\n",
       "      <td>-1.0</td>\n",
       "      <td>-1</td>\n",
       "    </tr>\n",
       "    <tr>\n",
       "      <th>2</th>\n",
       "      <td>2024-04-03 10:00:00-04:00</td>\n",
       "      <td>615.97</td>\n",
       "      <td>621.15</td>\n",
       "      <td>615.97</td>\n",
       "      <td>620.85</td>\n",
       "      <td>-1.0</td>\n",
       "      <td>-1.0</td>\n",
       "      <td>-1</td>\n",
       "    </tr>\n",
       "    <tr>\n",
       "      <th>3</th>\n",
       "      <td>2024-04-03 10:15:00-04:00</td>\n",
       "      <td>620.85</td>\n",
       "      <td>623.81</td>\n",
       "      <td>620.82</td>\n",
       "      <td>623.32</td>\n",
       "      <td>-1.0</td>\n",
       "      <td>-1.0</td>\n",
       "      <td>-1</td>\n",
       "    </tr>\n",
       "    <tr>\n",
       "      <th>4</th>\n",
       "      <td>2024-04-03 10:30:00-04:00</td>\n",
       "      <td>623.32</td>\n",
       "      <td>623.85</td>\n",
       "      <td>621.81</td>\n",
       "      <td>623.37</td>\n",
       "      <td>-1.0</td>\n",
       "      <td>-1.0</td>\n",
       "      <td>-1</td>\n",
       "    </tr>\n",
       "    <tr>\n",
       "      <th>5</th>\n",
       "      <td>2024-04-03 10:45:00-04:00</td>\n",
       "      <td>623.37</td>\n",
       "      <td>625.90</td>\n",
       "      <td>623.37</td>\n",
       "      <td>625.65</td>\n",
       "      <td>-1.0</td>\n",
       "      <td>-1.0</td>\n",
       "      <td>-1</td>\n",
       "    </tr>\n",
       "    <tr>\n",
       "      <th>6</th>\n",
       "      <td>2024-04-03 11:00:00-04:00</td>\n",
       "      <td>625.65</td>\n",
       "      <td>628.14</td>\n",
       "      <td>625.65</td>\n",
       "      <td>627.11</td>\n",
       "      <td>-1.0</td>\n",
       "      <td>-1.0</td>\n",
       "      <td>-1</td>\n",
       "    </tr>\n",
       "    <tr>\n",
       "      <th>7</th>\n",
       "      <td>2024-04-03 11:15:00-04:00</td>\n",
       "      <td>627.11</td>\n",
       "      <td>627.82</td>\n",
       "      <td>626.23</td>\n",
       "      <td>626.79</td>\n",
       "      <td>-1.0</td>\n",
       "      <td>-1.0</td>\n",
       "      <td>-1</td>\n",
       "    </tr>\n",
       "    <tr>\n",
       "      <th>8</th>\n",
       "      <td>2024-04-03 11:30:00-04:00</td>\n",
       "      <td>626.79</td>\n",
       "      <td>627.31</td>\n",
       "      <td>625.82</td>\n",
       "      <td>626.07</td>\n",
       "      <td>-1.0</td>\n",
       "      <td>-1.0</td>\n",
       "      <td>-1</td>\n",
       "    </tr>\n",
       "    <tr>\n",
       "      <th>9</th>\n",
       "      <td>2024-04-03 11:45:00-04:00</td>\n",
       "      <td>626.07</td>\n",
       "      <td>626.07</td>\n",
       "      <td>623.64</td>\n",
       "      <td>624.30</td>\n",
       "      <td>-1.0</td>\n",
       "      <td>-1.0</td>\n",
       "      <td>-1</td>\n",
       "    </tr>\n",
       "    <tr>\n",
       "      <th>10</th>\n",
       "      <td>2024-04-03 12:00:00-04:00</td>\n",
       "      <td>624.30</td>\n",
       "      <td>624.47</td>\n",
       "      <td>623.07</td>\n",
       "      <td>623.93</td>\n",
       "      <td>-1.0</td>\n",
       "      <td>-1.0</td>\n",
       "      <td>-1</td>\n",
       "    </tr>\n",
       "    <tr>\n",
       "      <th>11</th>\n",
       "      <td>2024-04-03 12:15:00-04:00</td>\n",
       "      <td>623.93</td>\n",
       "      <td>626.46</td>\n",
       "      <td>623.34</td>\n",
       "      <td>626.46</td>\n",
       "      <td>-1.0</td>\n",
       "      <td>-1.0</td>\n",
       "      <td>-1</td>\n",
       "    </tr>\n",
       "    <tr>\n",
       "      <th>12</th>\n",
       "      <td>2024-04-03 12:30:00-04:00</td>\n",
       "      <td>626.46</td>\n",
       "      <td>627.15</td>\n",
       "      <td>624.73</td>\n",
       "      <td>626.14</td>\n",
       "      <td>-1.0</td>\n",
       "      <td>-1.0</td>\n",
       "      <td>-1</td>\n",
       "    </tr>\n",
       "    <tr>\n",
       "      <th>13</th>\n",
       "      <td>2024-04-03 12:45:00-04:00</td>\n",
       "      <td>626.14</td>\n",
       "      <td>627.79</td>\n",
       "      <td>626.05</td>\n",
       "      <td>627.24</td>\n",
       "      <td>-1.0</td>\n",
       "      <td>-1.0</td>\n",
       "      <td>-1</td>\n",
       "    </tr>\n",
       "    <tr>\n",
       "      <th>14</th>\n",
       "      <td>2024-04-03 13:00:00-04:00</td>\n",
       "      <td>627.24</td>\n",
       "      <td>627.56</td>\n",
       "      <td>626.78</td>\n",
       "      <td>627.03</td>\n",
       "      <td>-1.0</td>\n",
       "      <td>-1.0</td>\n",
       "      <td>-1</td>\n",
       "    </tr>\n",
       "    <tr>\n",
       "      <th>15</th>\n",
       "      <td>2024-04-03 13:15:00-04:00</td>\n",
       "      <td>627.03</td>\n",
       "      <td>628.08</td>\n",
       "      <td>626.52</td>\n",
       "      <td>627.93</td>\n",
       "      <td>-1.0</td>\n",
       "      <td>-1.0</td>\n",
       "      <td>-1</td>\n",
       "    </tr>\n",
       "    <tr>\n",
       "      <th>16</th>\n",
       "      <td>2024-04-03 13:30:00-04:00</td>\n",
       "      <td>627.93</td>\n",
       "      <td>628.16</td>\n",
       "      <td>626.69</td>\n",
       "      <td>627.45</td>\n",
       "      <td>-1.0</td>\n",
       "      <td>-1.0</td>\n",
       "      <td>-1</td>\n",
       "    </tr>\n",
       "    <tr>\n",
       "      <th>17</th>\n",
       "      <td>2024-04-03 13:45:00-04:00</td>\n",
       "      <td>627.45</td>\n",
       "      <td>627.65</td>\n",
       "      <td>626.74</td>\n",
       "      <td>627.03</td>\n",
       "      <td>-1.0</td>\n",
       "      <td>-1.0</td>\n",
       "      <td>-1</td>\n",
       "    </tr>\n",
       "    <tr>\n",
       "      <th>18</th>\n",
       "      <td>2024-04-03 14:00:00-04:00</td>\n",
       "      <td>627.03</td>\n",
       "      <td>627.78</td>\n",
       "      <td>626.82</td>\n",
       "      <td>627.18</td>\n",
       "      <td>-1.0</td>\n",
       "      <td>-1.0</td>\n",
       "      <td>-1</td>\n",
       "    </tr>\n",
       "    <tr>\n",
       "      <th>19</th>\n",
       "      <td>2024-04-03 14:15:00-04:00</td>\n",
       "      <td>627.18</td>\n",
       "      <td>627.72</td>\n",
       "      <td>626.33</td>\n",
       "      <td>626.51</td>\n",
       "      <td>-1.0</td>\n",
       "      <td>-1.0</td>\n",
       "      <td>-1</td>\n",
       "    </tr>\n",
       "    <tr>\n",
       "      <th>20</th>\n",
       "      <td>2024-04-03 14:30:00-04:00</td>\n",
       "      <td>626.51</td>\n",
       "      <td>628.11</td>\n",
       "      <td>626.45</td>\n",
       "      <td>627.79</td>\n",
       "      <td>-1.0</td>\n",
       "      <td>-1.0</td>\n",
       "      <td>-1</td>\n",
       "    </tr>\n",
       "    <tr>\n",
       "      <th>21</th>\n",
       "      <td>2024-04-03 14:45:00-04:00</td>\n",
       "      <td>627.79</td>\n",
       "      <td>627.86</td>\n",
       "      <td>626.45</td>\n",
       "      <td>626.74</td>\n",
       "      <td>-1.0</td>\n",
       "      <td>-1.0</td>\n",
       "      <td>-1</td>\n",
       "    </tr>\n",
       "    <tr>\n",
       "      <th>22</th>\n",
       "      <td>2024-04-03 15:00:00-04:00</td>\n",
       "      <td>626.74</td>\n",
       "      <td>627.50</td>\n",
       "      <td>625.81</td>\n",
       "      <td>626.23</td>\n",
       "      <td>-1.0</td>\n",
       "      <td>-1.0</td>\n",
       "      <td>-1</td>\n",
       "    </tr>\n",
       "    <tr>\n",
       "      <th>23</th>\n",
       "      <td>2024-04-03 15:15:00-04:00</td>\n",
       "      <td>626.23</td>\n",
       "      <td>627.73</td>\n",
       "      <td>624.86</td>\n",
       "      <td>627.10</td>\n",
       "      <td>-1.0</td>\n",
       "      <td>-1.0</td>\n",
       "      <td>-1</td>\n",
       "    </tr>\n",
       "    <tr>\n",
       "      <th>24</th>\n",
       "      <td>2024-04-03 15:30:00-04:00</td>\n",
       "      <td>627.10</td>\n",
       "      <td>628.58</td>\n",
       "      <td>626.38</td>\n",
       "      <td>628.22</td>\n",
       "      <td>-1.0</td>\n",
       "      <td>-1.0</td>\n",
       "      <td>-1</td>\n",
       "    </tr>\n",
       "    <tr>\n",
       "      <th>25</th>\n",
       "      <td>2024-04-03 15:45:00-04:00</td>\n",
       "      <td>628.22</td>\n",
       "      <td>630.29</td>\n",
       "      <td>628.21</td>\n",
       "      <td>630.27</td>\n",
       "      <td>-1.0</td>\n",
       "      <td>-1.0</td>\n",
       "      <td>-1</td>\n",
       "    </tr>\n",
       "    <tr>\n",
       "      <th>26</th>\n",
       "      <td>2024-04-04 09:30:00-04:00</td>\n",
       "      <td>632.74</td>\n",
       "      <td>638.12</td>\n",
       "      <td>631.05</td>\n",
       "      <td>632.76</td>\n",
       "      <td>-1.0</td>\n",
       "      <td>-1.0</td>\n",
       "      <td>-1</td>\n",
       "    </tr>\n",
       "    <tr>\n",
       "      <th>27</th>\n",
       "      <td>2024-04-04 09:45:00-04:00</td>\n",
       "      <td>632.76</td>\n",
       "      <td>634.47</td>\n",
       "      <td>631.36</td>\n",
       "      <td>634.15</td>\n",
       "      <td>-1.0</td>\n",
       "      <td>-1.0</td>\n",
       "      <td>-1</td>\n",
       "    </tr>\n",
       "    <tr>\n",
       "      <th>28</th>\n",
       "      <td>2024-04-04 10:00:00-04:00</td>\n",
       "      <td>634.15</td>\n",
       "      <td>635.06</td>\n",
       "      <td>632.83</td>\n",
       "      <td>633.55</td>\n",
       "      <td>-1.0</td>\n",
       "      <td>-1.0</td>\n",
       "      <td>-1</td>\n",
       "    </tr>\n",
       "    <tr>\n",
       "      <th>29</th>\n",
       "      <td>2024-04-04 10:15:00-04:00</td>\n",
       "      <td>633.55</td>\n",
       "      <td>635.25</td>\n",
       "      <td>632.95</td>\n",
       "      <td>634.11</td>\n",
       "      <td>-1.0</td>\n",
       "      <td>-1.0</td>\n",
       "      <td>-1</td>\n",
       "    </tr>\n",
       "    <tr>\n",
       "      <th>30</th>\n",
       "      <td>2024-04-04 10:30:00-04:00</td>\n",
       "      <td>634.11</td>\n",
       "      <td>634.20</td>\n",
       "      <td>631.55</td>\n",
       "      <td>632.36</td>\n",
       "      <td>-1.0</td>\n",
       "      <td>-1.0</td>\n",
       "      <td>-1</td>\n",
       "    </tr>\n",
       "    <tr>\n",
       "      <th>31</th>\n",
       "      <td>2024-04-04 10:45:00-04:00</td>\n",
       "      <td>632.36</td>\n",
       "      <td>633.91</td>\n",
       "      <td>631.63</td>\n",
       "      <td>633.77</td>\n",
       "      <td>-1.0</td>\n",
       "      <td>-1.0</td>\n",
       "      <td>-1</td>\n",
       "    </tr>\n",
       "    <tr>\n",
       "      <th>32</th>\n",
       "      <td>2024-04-04 11:00:00-04:00</td>\n",
       "      <td>633.77</td>\n",
       "      <td>634.68</td>\n",
       "      <td>633.76</td>\n",
       "      <td>634.38</td>\n",
       "      <td>-1.0</td>\n",
       "      <td>-1.0</td>\n",
       "      <td>-1</td>\n",
       "    </tr>\n",
       "  </tbody>\n",
       "</table>\n",
       "</div>"
      ],
      "text/plain": [
       "                        date    open    high     low   close  volume  average  \\\n",
       "0  2024-04-03 09:30:00-04:00  612.00  618.32  611.78  616.09    -1.0     -1.0   \n",
       "1  2024-04-03 09:45:00-04:00  616.09  616.44  614.41  615.97    -1.0     -1.0   \n",
       "2  2024-04-03 10:00:00-04:00  615.97  621.15  615.97  620.85    -1.0     -1.0   \n",
       "3  2024-04-03 10:15:00-04:00  620.85  623.81  620.82  623.32    -1.0     -1.0   \n",
       "4  2024-04-03 10:30:00-04:00  623.32  623.85  621.81  623.37    -1.0     -1.0   \n",
       "5  2024-04-03 10:45:00-04:00  623.37  625.90  623.37  625.65    -1.0     -1.0   \n",
       "6  2024-04-03 11:00:00-04:00  625.65  628.14  625.65  627.11    -1.0     -1.0   \n",
       "7  2024-04-03 11:15:00-04:00  627.11  627.82  626.23  626.79    -1.0     -1.0   \n",
       "8  2024-04-03 11:30:00-04:00  626.79  627.31  625.82  626.07    -1.0     -1.0   \n",
       "9  2024-04-03 11:45:00-04:00  626.07  626.07  623.64  624.30    -1.0     -1.0   \n",
       "10 2024-04-03 12:00:00-04:00  624.30  624.47  623.07  623.93    -1.0     -1.0   \n",
       "11 2024-04-03 12:15:00-04:00  623.93  626.46  623.34  626.46    -1.0     -1.0   \n",
       "12 2024-04-03 12:30:00-04:00  626.46  627.15  624.73  626.14    -1.0     -1.0   \n",
       "13 2024-04-03 12:45:00-04:00  626.14  627.79  626.05  627.24    -1.0     -1.0   \n",
       "14 2024-04-03 13:00:00-04:00  627.24  627.56  626.78  627.03    -1.0     -1.0   \n",
       "15 2024-04-03 13:15:00-04:00  627.03  628.08  626.52  627.93    -1.0     -1.0   \n",
       "16 2024-04-03 13:30:00-04:00  627.93  628.16  626.69  627.45    -1.0     -1.0   \n",
       "17 2024-04-03 13:45:00-04:00  627.45  627.65  626.74  627.03    -1.0     -1.0   \n",
       "18 2024-04-03 14:00:00-04:00  627.03  627.78  626.82  627.18    -1.0     -1.0   \n",
       "19 2024-04-03 14:15:00-04:00  627.18  627.72  626.33  626.51    -1.0     -1.0   \n",
       "20 2024-04-03 14:30:00-04:00  626.51  628.11  626.45  627.79    -1.0     -1.0   \n",
       "21 2024-04-03 14:45:00-04:00  627.79  627.86  626.45  626.74    -1.0     -1.0   \n",
       "22 2024-04-03 15:00:00-04:00  626.74  627.50  625.81  626.23    -1.0     -1.0   \n",
       "23 2024-04-03 15:15:00-04:00  626.23  627.73  624.86  627.10    -1.0     -1.0   \n",
       "24 2024-04-03 15:30:00-04:00  627.10  628.58  626.38  628.22    -1.0     -1.0   \n",
       "25 2024-04-03 15:45:00-04:00  628.22  630.29  628.21  630.27    -1.0     -1.0   \n",
       "26 2024-04-04 09:30:00-04:00  632.74  638.12  631.05  632.76    -1.0     -1.0   \n",
       "27 2024-04-04 09:45:00-04:00  632.76  634.47  631.36  634.15    -1.0     -1.0   \n",
       "28 2024-04-04 10:00:00-04:00  634.15  635.06  632.83  633.55    -1.0     -1.0   \n",
       "29 2024-04-04 10:15:00-04:00  633.55  635.25  632.95  634.11    -1.0     -1.0   \n",
       "30 2024-04-04 10:30:00-04:00  634.11  634.20  631.55  632.36    -1.0     -1.0   \n",
       "31 2024-04-04 10:45:00-04:00  632.36  633.91  631.63  633.77    -1.0     -1.0   \n",
       "32 2024-04-04 11:00:00-04:00  633.77  634.68  633.76  634.38    -1.0     -1.0   \n",
       "\n",
       "    barCount  \n",
       "0         -1  \n",
       "1         -1  \n",
       "2         -1  \n",
       "3         -1  \n",
       "4         -1  \n",
       "5         -1  \n",
       "6         -1  \n",
       "7         -1  \n",
       "8         -1  \n",
       "9         -1  \n",
       "10        -1  \n",
       "11        -1  \n",
       "12        -1  \n",
       "13        -1  \n",
       "14        -1  \n",
       "15        -1  \n",
       "16        -1  \n",
       "17        -1  \n",
       "18        -1  \n",
       "19        -1  \n",
       "20        -1  \n",
       "21        -1  \n",
       "22        -1  \n",
       "23        -1  \n",
       "24        -1  \n",
       "25        -1  \n",
       "26        -1  \n",
       "27        -1  \n",
       "28        -1  \n",
       "29        -1  \n",
       "30        -1  \n",
       "31        -1  \n",
       "32        -1  "
      ]
     },
     "execution_count": 18,
     "metadata": {},
     "output_type": "execute_result"
    }
   ],
   "source": [
    "util.df(historical_data_nflx)"
   ]
  },
  {
   "cell_type": "code",
   "execution_count": 19,
   "metadata": {},
   "outputs": [],
   "source": [
    "nflx_df = util.df(historical_data_nflx)"
   ]
  },
  {
   "cell_type": "code",
   "execution_count": 20,
   "metadata": {},
   "outputs": [
    {
     "data": {
      "text/plain": [
       "0          NaN\n",
       "1          NaN\n",
       "2          NaN\n",
       "3          NaN\n",
       "4          NaN\n",
       "5          NaN\n",
       "6          NaN\n",
       "7          NaN\n",
       "8          NaN\n",
       "9          NaN\n",
       "10         NaN\n",
       "11         NaN\n",
       "12         NaN\n",
       "13         NaN\n",
       "14         NaN\n",
       "15         NaN\n",
       "16         NaN\n",
       "17         NaN\n",
       "18         NaN\n",
       "19    624.8210\n",
       "20    625.4060\n",
       "21    625.9445\n",
       "22    626.2135\n",
       "23    626.4025\n",
       "24    626.6450\n",
       "25    626.8760\n",
       "26    627.1585\n",
       "27    627.5265\n",
       "28    627.9005\n",
       "29    628.3910\n",
       "30    628.8125\n",
       "31    629.1780\n",
       "32    629.5900\n",
       "Name: close, dtype: float64"
      ]
     },
     "execution_count": 20,
     "metadata": {},
     "output_type": "execute_result"
    }
   ],
   "source": [
    "nflx_df.close.rolling(20).mean()"
   ]
  },
  {
   "cell_type": "code",
   "execution_count": 129,
   "metadata": {},
   "outputs": [],
   "source": [
    "nflx_df['20SMA'] = nflx_df.close.rolling(20).mean()"
   ]
  },
  {
   "cell_type": "code",
   "execution_count": 26,
   "metadata": {},
   "outputs": [
    {
     "data": {
      "text/plain": [
       "629.59"
      ]
     },
     "execution_count": 26,
     "metadata": {},
     "output_type": "execute_result"
    }
   ],
   "source": [
    "nflx_df.close.rolling(20).mean().iloc[-1]"
   ]
  },
  {
   "cell_type": "markdown",
   "metadata": {},
   "source": [
    "### How can I fire an order through ib_insync?\n"
   ]
  },
  {
   "cell_type": "code",
   "execution_count": 179,
   "metadata": {},
   "outputs": [],
   "source": [
    "nflx_order = MarketOrder('BUY',2)"
   ]
  },
  {
   "cell_type": "code",
   "execution_count": 180,
   "metadata": {},
   "outputs": [],
   "source": [
    "import time\n",
    "time.sleep(10)\n",
    "trade = ib.placeOrder(nflx_contract, nflx_order)"
   ]
  },
  {
   "cell_type": "code",
   "execution_count": 175,
   "metadata": {},
   "outputs": [
    {
     "data": {
      "text/plain": [
       "[TradeLogEntry(time=datetime.datetime(2024, 4, 4, 16, 48, 32, 39956, tzinfo=datetime.timezone.utc), status='PendingSubmit', message='', errorCode=0)]"
      ]
     },
     "execution_count": 175,
     "metadata": {},
     "output_type": "execute_result"
    }
   ],
   "source": [
    "trade.log"
   ]
  },
  {
   "cell_type": "code",
   "execution_count": 177,
   "metadata": {},
   "outputs": [
    {
     "name": "stdout",
     "output_type": "stream",
     "text": [
      "Order is still active\n"
     ]
    }
   ],
   "source": [
    "for _ in range(1000):\n",
    "    if not trade.isActive():\n",
    "        print('Your order status - {0}'.format(trade.orderStatus.status))\n",
    "        break\n",
    "    time.sleep(0.5)\n",
    "else:\n",
    "    print('Order is still active')"
   ]
  },
  {
   "cell_type": "code",
   "execution_count": 182,
   "metadata": {},
   "outputs": [],
   "source": [
    "def order_status(trade):\n",
    "    if trade.OrderStatus.status == 'Filled':\n",
    "        fill = trade.fills[-1]\n",
    "        print('{0} - {1} {2} {3} @ {4}'.format(fill.time, fill.execution.side, fill.contract.symbol, fill.execution.shares, fill.execution.avgPrice))"
   ]
  },
  {
   "cell_type": "code",
   "execution_count": 92,
   "metadata": {},
   "outputs": [
    {
     "data": {
      "text/plain": [
       "Event<filledEvent, []>"
      ]
     },
     "execution_count": 92,
     "metadata": {},
     "output_type": "execute_result"
    }
   ],
   "source": [
    "trade.filledEvent"
   ]
  },
  {
   "cell_type": "code",
   "execution_count": 183,
   "metadata": {},
   "outputs": [],
   "source": [
    "trade.filledEvent += order_status"
   ]
  },
  {
   "cell_type": "code",
   "execution_count": 198,
   "metadata": {},
   "outputs": [
    {
     "data": {
      "text/plain": [
       "Event<filledEvent, [[None, None, <function order_status at 0x13459f040>]]>"
      ]
     },
     "execution_count": 198,
     "metadata": {},
     "output_type": "execute_result"
    }
   ],
   "source": [
    "trade.filledEvent"
   ]
  },
  {
   "cell_type": "markdown",
   "metadata": {},
   "source": [
    "eur_usd_contract = Forex('EURUSD', 'IDEALPRO')\n",
    "ib.qualifyContracts(eur_usd_contract)"
   ]
  },
  {
   "cell_type": "code",
   "execution_count": 95,
   "metadata": {},
   "outputs": [],
   "source": [
    "eur_usd_order = ib.bracketOrder(\n",
    "    'BUY',\n",
    "    1000,\n",
    "    limitPrice=1.19,\n",
    "    takeProfitPrice=1.20,\n",
    "    stopLossPrice=1.18\n",
    ")"
   ]
  },
  {
   "cell_type": "code",
   "execution_count": 96,
   "metadata": {},
   "outputs": [],
   "source": [
    "for ord in eur_usd_order:\n",
    "    ib.placeOrder(eur_usd_contract, ord)"
   ]
  },
  {
   "cell_type": "code",
   "execution_count": 97,
   "metadata": {},
   "outputs": [
    {
     "data": {
      "text/plain": [
       "[Stock(conId=49462172, symbol='V', exchange='SMART', primaryExchange='NYSE', currency='USD', localSymbol='V', tradingClass='V')]"
      ]
     },
     "execution_count": 97,
     "metadata": {},
     "output_type": "execute_result"
    }
   ],
   "source": [
    "visa_contract = Stock('V', 'SMART', 'USD')\n",
    "ib.qualifyContracts(visa_contract)"
   ]
  },
  {
   "cell_type": "code",
   "execution_count": 98,
   "metadata": {},
   "outputs": [],
   "source": [
    "price_condition = PriceCondition(\n",
    "    price=200,\n",
    "    conId=visa_contract.conId,\n",
    "    exch=visa_contract.exchange\n",
    ")"
   ]
  },
  {
   "cell_type": "code",
   "execution_count": 99,
   "metadata": {},
   "outputs": [
    {
     "data": {
      "text/plain": [
       "[Stock(conId=38685693, symbol='MA', exchange='SMART', primaryExchange='NYSE', currency='USD', localSymbol='MA', tradingClass='MA')]"
      ]
     },
     "execution_count": 99,
     "metadata": {},
     "output_type": "execute_result"
    }
   ],
   "source": [
    "ma_contract = Stock('MA', 'SMART', 'USD')\n",
    "ib.qualifyContracts(ma_contract)"
   ]
  },
  {
   "cell_type": "code",
   "execution_count": 100,
   "metadata": {},
   "outputs": [],
   "source": [
    "visa_ma_order = MarketOrder('BUY', 10)\n",
    "visa_ma_order.conditions.append(price_condition)"
   ]
  },
  {
   "cell_type": "code",
   "execution_count": 101,
   "metadata": {},
   "outputs": [],
   "source": [
    "visa_ma_trade = ib.placeOrder(ma_contract, visa_ma_order)"
   ]
  },
  {
   "cell_type": "code",
   "execution_count": 102,
   "metadata": {},
   "outputs": [
    {
     "data": {
      "text/plain": [
       "True"
      ]
     },
     "execution_count": 102,
     "metadata": {},
     "output_type": "execute_result"
    }
   ],
   "source": [
    "visa_ma_trade.isActive()"
   ]
  },
  {
   "cell_type": "code",
   "execution_count": null,
   "metadata": {},
   "outputs": [],
   "source": []
  }
 ],
 "metadata": {
  "kernelspec": {
   "display_name": "Python 3",
   "language": "python",
   "name": "python3"
  },
  "language_info": {
   "codemirror_mode": {
    "name": "ipython",
    "version": 3
   },
   "file_extension": ".py",
   "mimetype": "text/x-python",
   "name": "python",
   "nbconvert_exporter": "python",
   "pygments_lexer": "ipython3",
   "version": "3.9.6"
  }
 },
 "nbformat": 4,
 "nbformat_minor": 2
}
