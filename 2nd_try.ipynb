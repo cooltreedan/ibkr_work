{
 "cells": [
  {
   "cell_type": "code",
   "execution_count": 1,
   "metadata": {},
   "outputs": [
    {
     "data": {
      "text/plain": [
       "<IB connected to 10.0.0.209:7497 clientId=1>"
      ]
     },
     "execution_count": 1,
     "metadata": {},
     "output_type": "execute_result"
    },
    {
     "name": "stderr",
     "output_type": "stream",
     "text": [
      "Error 10089, reqId 10: Requested market data requires additional subscription for API. See link in 'Market Data Connections' dialog for more details.Delayed market data is available.NFLX NASDAQ.NMS/TOP/ALL, contract: Stock(conId=15124833, symbol='NFLX', exchange='SMART', primaryExchange='NASDAQ', currency='USD', localSymbol='NFLX', tradingClass='NMS')\n",
      "Error 10089, reqId 11: Requested market data requires additional subscription for API. See link in 'Market Data Connections' dialog for more details.Delayed market data is available.NFLX NASDAQ.NMS/TOP/ALL, contract: Stock(conId=15124833, symbol='NFLX', exchange='SMART', primaryExchange='NASDAQ', currency='USD', localSymbol='NFLX', tradingClass='NMS')\n",
      "Error 200, reqId 13: No security definition has been found for the request, contract: Future(symbol='BRR', lastTradeDateOrContractMonth='20240624', exchange='CMECRYPTO')\n",
      "Error 200, reqId 14: Invalid value in field # 541, contract: Future(symbol='BRR', lastTradeDateOrContractMonth='CMECRYPTO')\n",
      "Error 200, reqId 15: Invalid value in field # 541, contract: Future(symbol='BRR', lastTradeDateOrContractMonth='CMECRYPTO')\n",
      "Error 200, reqId 16: Invalid value in field # 541, contract: Future(symbol='BRR', lastTradeDateOrContractMonth='CMECRYPTO')\n",
      "Error 200, reqId 17: Invalid value in field # 541, contract: Future(symbol='BRR', lastTradeDateOrContractMonth='CMECRYPTO')\n",
      "Error 200, reqId 18: Invalid value in field # 541, contract: Future(symbol='BRR', lastTradeDateOrContractMonth='CMECRYPTO')\n",
      "Error 200, reqId 19: Invalid value in field # 541, contract: Future(symbol='BRR', lastTradeDateOrContractMonth='CMECRYPTO')\n",
      "Error 200, reqId 20: No security definition has been found for the request, contract: Future(symbol='BRR', lastTradeDateOrContractMonth='20240429', exchange='CME')\n",
      "Error 354, reqId 24: Requested market data is not subscribed.Delayed market data is available.XAUUSD CFD/TOP/ALL, contract: CFD(conId=457068913, symbol='XAUUSD', exchange='SMART', currency='USD', localSymbol='XAUUSD', tradingClass='XAUUSD')\n",
      "Error 1100, reqId -1: Connectivity between IBKR and Trader Workstation has been lost.\n",
      "Error 1100, reqId -1: Connectivity between IBKR and Trader Workstation has been lost.\n",
      "Error 1102, reqId -1: Connectivity between IBKR and Trader Workstation has been restored - data maintained. All data farms are connected: usfarm.nj; usfarm; ushmds; secdefil.\n",
      "Error 1100, reqId -1: Connectivity between IBKR and Trader Workstation has been lost.\n",
      "Error 1100, reqId -1: Connectivity between IBKR and Trader Workstation has been lost.\n",
      "Error 1100, reqId -1: Connectivity between IBKR and Trader Workstation has been lost.\n",
      "Error 1100, reqId -1: Connectivity between IBKR and Trader Workstation has been lost.\n",
      "Error 1100, reqId -1: Connectivity between IBKR and Trader Workstation has been lost.\n",
      "Error 1100, reqId -1: Connectivity between IBKR and Trader Workstation has been lost.\n",
      "Peer closed connection.\n"
     ]
    }
   ],
   "source": [
    "from pprint import *\n",
    "from ib_insync import *\n",
    "util.startLoop()  # uncomment this line when in a notebook\n",
    "\n",
    "ib = IB() # making a IB class\n",
    "# ib.connect('127.0.0.1', 7497, clientId=2)\n",
    "ib.connect('10.0.0.209', 7497, clientId=1)"
   ]
  },
  {
   "cell_type": "code",
   "execution_count": 2,
   "metadata": {},
   "outputs": [
    {
     "data": {
      "text/plain": [
       "[Stock(conId=15124833, symbol='NFLX', exchange='SMART', primaryExchange='NASDAQ', currency='USD', localSymbol='NFLX', tradingClass='NMS')]"
      ]
     },
     "execution_count": 2,
     "metadata": {},
     "output_type": "execute_result"
    }
   ],
   "source": [
    "nflx_contract = Stock('NFLX', 'SMART', 'USD')\n",
    "ib.qualifyContracts(nflx_contract)"
   ]
  },
  {
   "cell_type": "code",
   "execution_count": 9,
   "metadata": {},
   "outputs": [],
   "source": [
    "data = ib.reqMktData(nflx_contract)"
   ]
  },
  {
   "cell_type": "code",
   "execution_count": 11,
   "metadata": {},
   "outputs": [
    {
     "data": {
      "text/plain": [
       "nan"
      ]
     },
     "execution_count": 11,
     "metadata": {},
     "output_type": "execute_result"
    }
   ],
   "source": [
    "data.marketPrice()"
   ]
  },
  {
   "cell_type": "code",
   "execution_count": 12,
   "metadata": {},
   "outputs": [
    {
     "data": {
      "text/plain": [
       "[Forex('EURUSD', conId=12087792, exchange='IDEALPRO', localSymbol='EUR.USD', tradingClass='EUR.USD')]"
      ]
     },
     "execution_count": 12,
     "metadata": {},
     "output_type": "execute_result"
    }
   ],
   "source": [
    "eur_usd_contract = Forex('EURUSD', 'IDEALPRO')\n",
    "ib.qualifyContracts(eur_usd_contract)"
   ]
  },
  {
   "cell_type": "code",
   "execution_count": 21,
   "metadata": {},
   "outputs": [
    {
     "data": {
      "text/plain": [
       "[Future(conId=662532985, symbol='BRR', lastTradeDateOrContractMonth='20240426', multiplier='5', exchange='CME', currency='USD', localSymbol='BTCJ4', tradingClass='BTC')]"
      ]
     },
     "execution_count": 21,
     "metadata": {},
     "output_type": "execute_result"
    }
   ],
   "source": [
    "btc_fut_contract = Future('BRR', '20240426', 'CME')\n",
    "ib.qualifyContracts(btc_fut_contract)\n"
   ]
  },
  {
   "cell_type": "code",
   "execution_count": null,
   "metadata": {},
   "outputs": [],
   "source": [
    "btc_fut_contract = Future('BRR', 'CME')\n",
    "ib.qualifyContracts(btc_fut_contract)"
   ]
  },
  {
   "cell_type": "code",
   "execution_count": 23,
   "metadata": {},
   "outputs": [
    {
     "data": {
      "text/plain": [
       "[CFD(conId=457068913, symbol='XAUUSD', exchange='SMART', currency='USD', localSymbol='XAUUSD', tradingClass='XAUUSD')]"
      ]
     },
     "execution_count": 23,
     "metadata": {},
     "output_type": "execute_result"
    }
   ],
   "source": [
    "gold_cfd_contract = CFD('XAUUSD')\n",
    "ib.qualifyContracts(gold_cfd_contract)"
   ]
  },
  {
   "cell_type": "code",
   "execution_count": 24,
   "metadata": {},
   "outputs": [],
   "source": [
    "data = ib.reqMktData(gold_cfd_contract)"
   ]
  },
  {
   "cell_type": "code",
   "execution_count": 31,
   "metadata": {},
   "outputs": [
    {
     "data": {
      "text/plain": [
       "nan"
      ]
     },
     "execution_count": 31,
     "metadata": {},
     "output_type": "execute_result"
    }
   ],
   "source": [
    "data.marketPrice()"
   ]
  },
  {
   "cell_type": "code",
   "execution_count": 33,
   "metadata": {},
   "outputs": [],
   "source": [
    "historical_data_nflx = ib.reqHistoricalData(\n",
    "    nflx_contract,\n",
    "    '',\n",
    "    barSizeSetting='15 mins',\n",
    "    durationStr='2 D',\n",
    "    whatToShow='MIDPOINT',\n",
    "    useRTH=True\n",
    ")"
   ]
  },
  {
   "cell_type": "code",
   "execution_count": 34,
   "metadata": {},
   "outputs": [
    {
     "data": {
      "text/plain": [
       "[BarData(date=datetime.datetime(2024, 4, 1, 9, 30, tzinfo=zoneinfo.ZoneInfo(key='US/Eastern')), open=607.49, high=610.67, low=605.53, close=609.39, volume=-1.0, average=-1.0, barCount=-1),\n",
       " BarData(date=datetime.datetime(2024, 4, 1, 9, 45, tzinfo=zoneinfo.ZoneInfo(key='US/Eastern')), open=609.39, high=613.38, low=608.33, close=610.91, volume=-1.0, average=-1.0, barCount=-1),\n",
       " BarData(date=datetime.datetime(2024, 4, 1, 10, 0, tzinfo=zoneinfo.ZoneInfo(key='US/Eastern')), open=610.91, high=611.06, low=608.66, close=610.31, volume=-1.0, average=-1.0, barCount=-1),\n",
       " BarData(date=datetime.datetime(2024, 4, 1, 10, 15, tzinfo=zoneinfo.ZoneInfo(key='US/Eastern')), open=610.31, high=611.88, low=608.88, close=611.66, volume=-1.0, average=-1.0, barCount=-1),\n",
       " BarData(date=datetime.datetime(2024, 4, 1, 10, 30, tzinfo=zoneinfo.ZoneInfo(key='US/Eastern')), open=611.66, high=611.86, low=607.16, close=608.63, volume=-1.0, average=-1.0, barCount=-1),\n",
       " BarData(date=datetime.datetime(2024, 4, 1, 10, 45, tzinfo=zoneinfo.ZoneInfo(key='US/Eastern')), open=608.63, high=609.0, low=607.18, close=608.41, volume=-1.0, average=-1.0, barCount=-1),\n",
       " BarData(date=datetime.datetime(2024, 4, 1, 11, 0, tzinfo=zoneinfo.ZoneInfo(key='US/Eastern')), open=608.41, high=608.57, low=606.73, close=607.78, volume=-1.0, average=-1.0, barCount=-1),\n",
       " BarData(date=datetime.datetime(2024, 4, 1, 11, 15, tzinfo=zoneinfo.ZoneInfo(key='US/Eastern')), open=607.78, high=608.93, low=606.32, close=608.85, volume=-1.0, average=-1.0, barCount=-1),\n",
       " BarData(date=datetime.datetime(2024, 4, 1, 11, 30, tzinfo=zoneinfo.ZoneInfo(key='US/Eastern')), open=608.85, high=609.35, low=608.1, close=608.32, volume=-1.0, average=-1.0, barCount=-1),\n",
       " BarData(date=datetime.datetime(2024, 4, 1, 11, 45, tzinfo=zoneinfo.ZoneInfo(key='US/Eastern')), open=608.32, high=609.27, low=607.59, close=607.97, volume=-1.0, average=-1.0, barCount=-1),\n",
       " BarData(date=datetime.datetime(2024, 4, 1, 12, 0, tzinfo=zoneinfo.ZoneInfo(key='US/Eastern')), open=607.97, high=610.81, low=607.19, close=610.49, volume=-1.0, average=-1.0, barCount=-1),\n",
       " BarData(date=datetime.datetime(2024, 4, 1, 12, 15, tzinfo=zoneinfo.ZoneInfo(key='US/Eastern')), open=610.49, high=611.06, low=610.33, close=610.78, volume=-1.0, average=-1.0, barCount=-1),\n",
       " BarData(date=datetime.datetime(2024, 4, 1, 12, 30, tzinfo=zoneinfo.ZoneInfo(key='US/Eastern')), open=610.78, high=611.1, low=610.36, close=610.82, volume=-1.0, average=-1.0, barCount=-1),\n",
       " BarData(date=datetime.datetime(2024, 4, 1, 12, 45, tzinfo=zoneinfo.ZoneInfo(key='US/Eastern')), open=610.82, high=611.04, low=609.39, close=609.61, volume=-1.0, average=-1.0, barCount=-1),\n",
       " BarData(date=datetime.datetime(2024, 4, 1, 13, 0, tzinfo=zoneinfo.ZoneInfo(key='US/Eastern')), open=609.61, high=610.36, low=609.51, close=609.76, volume=-1.0, average=-1.0, barCount=-1),\n",
       " BarData(date=datetime.datetime(2024, 4, 1, 13, 15, tzinfo=zoneinfo.ZoneInfo(key='US/Eastern')), open=609.76, high=609.91, low=608.64, close=609.57, volume=-1.0, average=-1.0, barCount=-1),\n",
       " BarData(date=datetime.datetime(2024, 4, 1, 13, 30, tzinfo=zoneinfo.ZoneInfo(key='US/Eastern')), open=609.57, high=609.88, low=608.85, close=609.6, volume=-1.0, average=-1.0, barCount=-1),\n",
       " BarData(date=datetime.datetime(2024, 4, 1, 13, 45, tzinfo=zoneinfo.ZoneInfo(key='US/Eastern')), open=609.6, high=610.27, low=609.14, close=610.19, volume=-1.0, average=-1.0, barCount=-1),\n",
       " BarData(date=datetime.datetime(2024, 4, 1, 14, 0, tzinfo=zoneinfo.ZoneInfo(key='US/Eastern')), open=610.19, high=611.7, low=610.19, close=611.57, volume=-1.0, average=-1.0, barCount=-1),\n",
       " BarData(date=datetime.datetime(2024, 4, 1, 14, 15, tzinfo=zoneinfo.ZoneInfo(key='US/Eastern')), open=611.57, high=612.78, low=611.57, close=612.26, volume=-1.0, average=-1.0, barCount=-1),\n",
       " BarData(date=datetime.datetime(2024, 4, 1, 14, 30, tzinfo=zoneinfo.ZoneInfo(key='US/Eastern')), open=612.26, high=612.38, low=611.36, close=611.69, volume=-1.0, average=-1.0, barCount=-1),\n",
       " BarData(date=datetime.datetime(2024, 4, 1, 14, 45, tzinfo=zoneinfo.ZoneInfo(key='US/Eastern')), open=611.69, high=612.61, low=611.66, close=611.97, volume=-1.0, average=-1.0, barCount=-1),\n",
       " BarData(date=datetime.datetime(2024, 4, 1, 15, 0, tzinfo=zoneinfo.ZoneInfo(key='US/Eastern')), open=611.97, high=612.57, low=611.27, close=612.09, volume=-1.0, average=-1.0, barCount=-1),\n",
       " BarData(date=datetime.datetime(2024, 4, 1, 15, 15, tzinfo=zoneinfo.ZoneInfo(key='US/Eastern')), open=612.09, high=613.46, low=612.08, close=613.15, volume=-1.0, average=-1.0, barCount=-1),\n",
       " BarData(date=datetime.datetime(2024, 4, 1, 15, 30, tzinfo=zoneinfo.ZoneInfo(key='US/Eastern')), open=613.15, high=613.46, low=611.92, close=611.94, volume=-1.0, average=-1.0, barCount=-1),\n",
       " BarData(date=datetime.datetime(2024, 4, 1, 15, 45, tzinfo=zoneinfo.ZoneInfo(key='US/Eastern')), open=611.94, high=615.09, low=611.86, close=614.14, volume=-1.0, average=-1.0, barCount=-1),\n",
       " BarData(date=datetime.datetime(2024, 4, 2, 9, 30, tzinfo=zoneinfo.ZoneInfo(key='US/Eastern')), open=610.4, high=611.22, low=605.61, close=607.38, volume=-1.0, average=-1.0, barCount=-1),\n",
       " BarData(date=datetime.datetime(2024, 4, 2, 9, 45, tzinfo=zoneinfo.ZoneInfo(key='US/Eastern')), open=607.38, high=609.3, low=607.01, close=608.65, volume=-1.0, average=-1.0, barCount=-1),\n",
       " BarData(date=datetime.datetime(2024, 4, 2, 10, 0, tzinfo=zoneinfo.ZoneInfo(key='US/Eastern')), open=608.65, high=610.38, low=607.57, close=608.53, volume=-1.0, average=-1.0, barCount=-1),\n",
       " BarData(date=datetime.datetime(2024, 4, 2, 10, 15, tzinfo=zoneinfo.ZoneInfo(key='US/Eastern')), open=608.53, high=609.74, low=607.38, close=607.6, volume=-1.0, average=-1.0, barCount=-1),\n",
       " BarData(date=datetime.datetime(2024, 4, 2, 10, 30, tzinfo=zoneinfo.ZoneInfo(key='US/Eastern')), open=607.6, high=608.54, low=607.35, close=607.54, volume=-1.0, average=-1.0, barCount=-1),\n",
       " BarData(date=datetime.datetime(2024, 4, 2, 10, 45, tzinfo=zoneinfo.ZoneInfo(key='US/Eastern')), open=607.54, high=607.62, low=605.6, close=606.16, volume=-1.0, average=-1.0, barCount=-1),\n",
       " BarData(date=datetime.datetime(2024, 4, 2, 11, 0, tzinfo=zoneinfo.ZoneInfo(key='US/Eastern')), open=606.16, high=607.67, low=605.58, close=607.59, volume=-1.0, average=-1.0, barCount=-1),\n",
       " BarData(date=datetime.datetime(2024, 4, 2, 11, 15, tzinfo=zoneinfo.ZoneInfo(key='US/Eastern')), open=607.59, high=610.33, low=607.54, close=610.33, volume=-1.0, average=-1.0, barCount=-1),\n",
       " BarData(date=datetime.datetime(2024, 4, 2, 11, 30, tzinfo=zoneinfo.ZoneInfo(key='US/Eastern')), open=610.33, high=610.44, low=608.21, close=608.6, volume=-1.0, average=-1.0, barCount=-1),\n",
       " BarData(date=datetime.datetime(2024, 4, 2, 11, 45, tzinfo=zoneinfo.ZoneInfo(key='US/Eastern')), open=608.6, high=608.85, low=607.39, close=607.64, volume=-1.0, average=-1.0, barCount=-1),\n",
       " BarData(date=datetime.datetime(2024, 4, 2, 12, 0, tzinfo=zoneinfo.ZoneInfo(key='US/Eastern')), open=607.64, high=609.22, low=607.61, close=608.51, volume=-1.0, average=-1.0, barCount=-1),\n",
       " BarData(date=datetime.datetime(2024, 4, 2, 12, 15, tzinfo=zoneinfo.ZoneInfo(key='US/Eastern')), open=608.51, high=609.64, low=608.43, close=609.6, volume=-1.0, average=-1.0, barCount=-1),\n",
       " BarData(date=datetime.datetime(2024, 4, 2, 12, 30, tzinfo=zoneinfo.ZoneInfo(key='US/Eastern')), open=609.6, high=610.35, low=609.54, close=610.21, volume=-1.0, average=-1.0, barCount=-1),\n",
       " BarData(date=datetime.datetime(2024, 4, 2, 12, 45, tzinfo=zoneinfo.ZoneInfo(key='US/Eastern')), open=610.21, high=612.48, low=610.15, close=612.48, volume=-1.0, average=-1.0, barCount=-1),\n",
       " BarData(date=datetime.datetime(2024, 4, 2, 13, 0, tzinfo=zoneinfo.ZoneInfo(key='US/Eastern')), open=612.48, high=612.59, low=611.73, close=611.89, volume=-1.0, average=-1.0, barCount=-1),\n",
       " BarData(date=datetime.datetime(2024, 4, 2, 13, 15, tzinfo=zoneinfo.ZoneInfo(key='US/Eastern')), open=611.89, high=612.43, low=611.72, close=611.78, volume=-1.0, average=-1.0, barCount=-1),\n",
       " BarData(date=datetime.datetime(2024, 4, 2, 13, 30, tzinfo=zoneinfo.ZoneInfo(key='US/Eastern')), open=611.78, high=612.13, low=611.17, close=611.88, volume=-1.0, average=-1.0, barCount=-1),\n",
       " BarData(date=datetime.datetime(2024, 4, 2, 13, 45, tzinfo=zoneinfo.ZoneInfo(key='US/Eastern')), open=611.88, high=613.11, low=611.87, close=612.28, volume=-1.0, average=-1.0, barCount=-1),\n",
       " BarData(date=datetime.datetime(2024, 4, 2, 14, 0, tzinfo=zoneinfo.ZoneInfo(key='US/Eastern')), open=612.28, high=612.38, low=611.14, close=611.59, volume=-1.0, average=-1.0, barCount=-1),\n",
       " BarData(date=datetime.datetime(2024, 4, 2, 14, 15, tzinfo=zoneinfo.ZoneInfo(key='US/Eastern')), open=611.59, high=611.77, low=610.86, close=610.93, volume=-1.0, average=-1.0, barCount=-1),\n",
       " BarData(date=datetime.datetime(2024, 4, 2, 14, 30, tzinfo=zoneinfo.ZoneInfo(key='US/Eastern')), open=610.93, high=611.99, low=610.52, close=610.89, volume=-1.0, average=-1.0, barCount=-1),\n",
       " BarData(date=datetime.datetime(2024, 4, 2, 14, 45, tzinfo=zoneinfo.ZoneInfo(key='US/Eastern')), open=610.89, high=611.86, low=610.89, close=611.09, volume=-1.0, average=-1.0, barCount=-1),\n",
       " BarData(date=datetime.datetime(2024, 4, 2, 15, 0, tzinfo=zoneinfo.ZoneInfo(key='US/Eastern')), open=611.09, high=612.22, low=611.09, close=611.12, volume=-1.0, average=-1.0, barCount=-1),\n",
       " BarData(date=datetime.datetime(2024, 4, 2, 15, 15, tzinfo=zoneinfo.ZoneInfo(key='US/Eastern')), open=611.12, high=612.39, low=610.82, close=612.39, volume=-1.0, average=-1.0, barCount=-1)]"
      ]
     },
     "execution_count": 34,
     "metadata": {},
     "output_type": "execute_result"
    }
   ],
   "source": [
    "historical_data_nflx"
   ]
  },
  {
   "cell_type": "code",
   "execution_count": 35,
   "metadata": {},
   "outputs": [
    {
     "data": {
      "text/plain": [
       "ib_insync.objects.BarDataList"
      ]
     },
     "execution_count": 35,
     "metadata": {},
     "output_type": "execute_result"
    }
   ],
   "source": [
    "type(historical_data_nflx)"
   ]
  },
  {
   "cell_type": "code",
   "execution_count": 36,
   "metadata": {},
   "outputs": [
    {
     "data": {
      "text/plain": [
       "BarData(date=datetime.datetime(2024, 4, 2, 15, 15, tzinfo=zoneinfo.ZoneInfo(key='US/Eastern')), open=611.12, high=612.39, low=610.82, close=612.39, volume=-1.0, average=-1.0, barCount=-1)"
      ]
     },
     "execution_count": 36,
     "metadata": {},
     "output_type": "execute_result"
    }
   ],
   "source": [
    "historical_data_nflx[-1]"
   ]
  },
  {
   "cell_type": "code",
   "execution_count": 37,
   "metadata": {},
   "outputs": [
    {
     "data": {
      "text/plain": [
       "611.12"
      ]
     },
     "execution_count": 37,
     "metadata": {},
     "output_type": "execute_result"
    }
   ],
   "source": [
    "historical_data_nflx[-1].open"
   ]
  },
  {
   "cell_type": "code",
   "execution_count": null,
   "metadata": {},
   "outputs": [],
   "source": [
    "util.df(historical_data_nflx)"
   ]
  },
  {
   "cell_type": "code",
   "execution_count": 49,
   "metadata": {},
   "outputs": [],
   "source": [
    "nflx_order = MarketOrder('BUY',20)"
   ]
  },
  {
   "cell_type": "code",
   "execution_count": 50,
   "metadata": {},
   "outputs": [],
   "source": [
    "trade = ib.placeOrder(nflx_contract, nflx_order)"
   ]
  },
  {
   "cell_type": "code",
   "execution_count": 64,
   "metadata": {},
   "outputs": [
    {
     "data": {
      "text/plain": [
       "[TradeLogEntry(time=datetime.datetime(2024, 4, 2, 19, 54, 15, 839422, tzinfo=datetime.timezone.utc), status='PendingSubmit', message='', errorCode=0),\n",
       " TradeLogEntry(time=datetime.datetime(2024, 4, 2, 19, 54, 16, 350112, tzinfo=datetime.timezone.utc), status='Submitted', message='', errorCode=0),\n",
       " TradeLogEntry(time=datetime.datetime(2024, 4, 2, 20, 1, 25, 423512, tzinfo=datetime.timezone.utc), status='Submitted', message='Fill 20.0@612.68', errorCode=0),\n",
       " TradeLogEntry(time=datetime.datetime(2024, 4, 2, 20, 1, 25, 424806, tzinfo=datetime.timezone.utc), status='Filled', message='', errorCode=0)]"
      ]
     },
     "execution_count": 64,
     "metadata": {},
     "output_type": "execute_result"
    }
   ],
   "source": [
    "trade.log"
   ]
  },
  {
   "cell_type": "code",
   "execution_count": 65,
   "metadata": {},
   "outputs": [
    {
     "data": {
      "text/plain": [
       "'Filled'"
      ]
     },
     "execution_count": 65,
     "metadata": {},
     "output_type": "execute_result"
    }
   ],
   "source": [
    "trade.orderStatus.status"
   ]
  },
  {
   "cell_type": "code",
   "execution_count": 66,
   "metadata": {},
   "outputs": [
    {
     "name": "stdout",
     "output_type": "stream",
     "text": [
      "Your order status - Filled\n"
     ]
    }
   ],
   "source": [
    "for _ in range(100):\n",
    "    if not trade.isActive():\n",
    "        print('Your order status - {0}'.format(trade.orderStatus.status))\n",
    "        break\n",
    "    time.sleep(0.5)\n",
    "else:\n",
    "    print('Order is still active')"
   ]
  },
  {
   "cell_type": "code",
   "execution_count": 67,
   "metadata": {},
   "outputs": [
    {
     "name": "stdout",
     "output_type": "stream",
     "text": [
      "order done\n"
     ]
    }
   ],
   "source": [
    "while (trade.isActive()):\n",
    "    print('Waiting')\n",
    "    continue\n",
    "else:\n",
    "    print('order done')"
   ]
  },
  {
   "cell_type": "code",
   "execution_count": 69,
   "metadata": {},
   "outputs": [
    {
     "data": {
      "text/plain": [
       "Fill(contract=Stock(conId=15124833, symbol='NFLX', exchange='SMART', primaryExchange='NASDAQ', currency='USD', localSymbol='NFLX', tradingClass='NMS'), execution=Execution(execId='00012ec5.660d2dd7.01.01', time=datetime.datetime(2024, 4, 2, 20, 1, 25, tzinfo=datetime.timezone.utc), acctNumber='DU8538876', exchange='NASDAQ', side='BOT', shares=20.0, price=612.68, permId=1535362918, clientId=1, orderId=27, liquidation=0, cumQty=20.0, avgPrice=612.68, orderRef='', evRule='', evMultiplier=0.0, modelCode='', lastLiquidity=1), commissionReport=CommissionReport(execId='00012ec5.660d2dd7.01.01', commission=1.0, currency='USD', realizedPNL=0.0, yield_=0.0, yieldRedemptionDate=0), time=datetime.datetime(2024, 4, 2, 20, 1, 25, 423512, tzinfo=datetime.timezone.utc))"
      ]
     },
     "execution_count": 69,
     "metadata": {},
     "output_type": "execute_result"
    }
   ],
   "source": [
    "trade.fills[-1]"
   ]
  },
  {
   "cell_type": "code",
   "execution_count": 80,
   "metadata": {},
   "outputs": [
    {
     "data": {
      "text/plain": [
       "Event<filledEvent, [[None, None, <function order_status at 0x113d705e0>]]>"
      ]
     },
     "execution_count": 80,
     "metadata": {},
     "output_type": "execute_result"
    }
   ],
   "source": [
    "trade.filledEvent"
   ]
  },
  {
   "cell_type": "code",
   "execution_count": 85,
   "metadata": {},
   "outputs": [],
   "source": [
    "def order_status(trade):\n",
    "    if trade.OrderStatus.status == 'Filled':\n",
    "        fill = trade.fills[-1]\n",
    "        print('{0} - {1} {2} {3} @ {4}'.format(fill.time, fill.execution.side, fill.contract.symbol, fill.execution.shares, fill.execution.avgPrice))"
   ]
  },
  {
   "cell_type": "code",
   "execution_count": 91,
   "metadata": {},
   "outputs": [],
   "source": [
    "trade.filledEvent.clear()"
   ]
  },
  {
   "cell_type": "code",
   "execution_count": 92,
   "metadata": {},
   "outputs": [
    {
     "data": {
      "text/plain": [
       "Event<filledEvent, []>"
      ]
     },
     "execution_count": 92,
     "metadata": {},
     "output_type": "execute_result"
    }
   ],
   "source": [
    "trade.filledEvent"
   ]
  },
  {
   "cell_type": "code",
   "execution_count": 93,
   "metadata": {},
   "outputs": [],
   "source": [
    "trade.filledEvent += order_status"
   ]
  },
  {
   "cell_type": "code",
   "execution_count": 94,
   "metadata": {},
   "outputs": [
    {
     "name": "stdout",
     "output_type": "stream",
     "text": [
      "Event<filledEvent, [[None, None, <function order_status at 0x113d701f0>]]>\n"
     ]
    }
   ],
   "source": [
    "pprint(trade.filledEvent)"
   ]
  },
  {
   "cell_type": "markdown",
   "metadata": {},
   "source": [
    "eur_usd_contract = Forex('EURUSD', 'IDEALPRO')\n",
    "ib.qualifyContracts(eur_usd_contract)"
   ]
  },
  {
   "cell_type": "code",
   "execution_count": 95,
   "metadata": {},
   "outputs": [],
   "source": [
    "eur_usd_order = ib.bracketOrder(\n",
    "    'BUY',\n",
    "    1000,\n",
    "    limitPrice=1.19,\n",
    "    takeProfitPrice=1.20,\n",
    "    stopLossPrice=1.18\n",
    ")"
   ]
  },
  {
   "cell_type": "code",
   "execution_count": 96,
   "metadata": {},
   "outputs": [],
   "source": [
    "for ord in eur_usd_order:\n",
    "    ib.placeOrder(eur_usd_contract, ord)"
   ]
  },
  {
   "cell_type": "code",
   "execution_count": 97,
   "metadata": {},
   "outputs": [
    {
     "data": {
      "text/plain": [
       "[Stock(conId=49462172, symbol='V', exchange='SMART', primaryExchange='NYSE', currency='USD', localSymbol='V', tradingClass='V')]"
      ]
     },
     "execution_count": 97,
     "metadata": {},
     "output_type": "execute_result"
    }
   ],
   "source": [
    "visa_contract = Stock('V', 'SMART', 'USD')\n",
    "ib.qualifyContracts(visa_contract)"
   ]
  },
  {
   "cell_type": "code",
   "execution_count": 98,
   "metadata": {},
   "outputs": [],
   "source": [
    "price_condition = PriceCondition(\n",
    "    price=200,\n",
    "    conId=visa_contract.conId,\n",
    "    exch=visa_contract.exchange\n",
    ")"
   ]
  },
  {
   "cell_type": "code",
   "execution_count": 99,
   "metadata": {},
   "outputs": [
    {
     "data": {
      "text/plain": [
       "[Stock(conId=38685693, symbol='MA', exchange='SMART', primaryExchange='NYSE', currency='USD', localSymbol='MA', tradingClass='MA')]"
      ]
     },
     "execution_count": 99,
     "metadata": {},
     "output_type": "execute_result"
    }
   ],
   "source": [
    "ma_contract = Stock('MA', 'SMART', 'USD')\n",
    "ib.qualifyContracts(ma_contract)"
   ]
  },
  {
   "cell_type": "code",
   "execution_count": 100,
   "metadata": {},
   "outputs": [],
   "source": [
    "visa_ma_order = MarketOrder('BUY', 10)\n",
    "visa_ma_order.conditions.append(price_condition)"
   ]
  },
  {
   "cell_type": "code",
   "execution_count": 101,
   "metadata": {},
   "outputs": [],
   "source": [
    "visa_ma_trade = ib.placeOrder(ma_contract, visa_ma_order)"
   ]
  },
  {
   "cell_type": "code",
   "execution_count": 102,
   "metadata": {},
   "outputs": [
    {
     "data": {
      "text/plain": [
       "True"
      ]
     },
     "execution_count": 102,
     "metadata": {},
     "output_type": "execute_result"
    }
   ],
   "source": [
    "visa_ma_trade.isActive()"
   ]
  },
  {
   "cell_type": "code",
   "execution_count": null,
   "metadata": {},
   "outputs": [],
   "source": []
  }
 ],
 "metadata": {
  "kernelspec": {
   "display_name": "Python 3",
   "language": "python",
   "name": "python3"
  },
  "language_info": {
   "codemirror_mode": {
    "name": "ipython",
    "version": 3
   },
   "file_extension": ".py",
   "mimetype": "text/x-python",
   "name": "python",
   "nbconvert_exporter": "python",
   "pygments_lexer": "ipython3",
   "version": "3.9.6"
  }
 },
 "nbformat": 4,
 "nbformat_minor": 2
}
