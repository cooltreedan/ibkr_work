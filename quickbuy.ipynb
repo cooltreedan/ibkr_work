{
 "cells": [
  {
   "cell_type": "markdown",
   "metadata": {},
   "source": [
    "### Connect to IB:"
   ]
  },
  {
   "cell_type": "code",
   "execution_count": 1,
   "metadata": {},
   "outputs": [
    {
     "data": {
      "text/plain": [
       "<IB connected to 10.0.0.209:7497 clientId=1>"
      ]
     },
     "execution_count": 1,
     "metadata": {},
     "output_type": "execute_result"
    },
    {
     "name": "stderr",
     "output_type": "stream",
     "text": [
      "Error 10148, reqId 40: OrderId 40 that needs to be cancelled cannot be cancelled, state: Cancelled.\n",
      "Error 10147, reqId 40: OrderId 40 that needs to be cancelled is not found.\n",
      "Error 10147, reqId 52: OrderId 52 that needs to be cancelled is not found.\n",
      "Error 10147, reqId 52: OrderId 52 that needs to be cancelled is not found.\n"
     ]
    }
   ],
   "source": [
    "from pprint import *\n",
    "from ib_insync import *\n",
    "util.startLoop()  # uncomment this line when in a notebook\n",
    "\n",
    "ib = IB() # making a IB class\n",
    "# ib.connect('127.0.0.1', 7497, clientId=2)\n",
    "ib.connect('10.0.0.209', 7497, clientId=1)"
   ]
  },
  {
   "cell_type": "markdown",
   "metadata": {},
   "source": [
    "### Verify contract, here use Future"
   ]
  },
  {
   "cell_type": "code",
   "execution_count": 2,
   "metadata": {},
   "outputs": [
    {
     "name": "stdout",
     "output_type": "stream",
     "text": [
      "Future(conId=620731036, symbol='MES', lastTradeDateOrContractMonth='20240621', multiplier='5', exchange='CME', currency='USD', localSymbol='MESM4', tradingClass='MES')\n"
     ]
    }
   ],
   "source": [
    "f = Future(symbol='MES', lastTradeDateOrContractMonth='202406', exchange='CME', currency='USD') # valid instrument - Future\n",
    "contract = ib.qualifyContracts(f)[0]\n",
    "pprint(contract)"
   ]
  },
  {
   "cell_type": "markdown",
   "metadata": {},
   "source": [
    "1st, a buy market order for X (default = 10) shares, return the trade.\n",
    "in the function, 3 values are used for print: \n",
    "- mkt_buy_whether_filled, \n",
    "- mkt_buy_quantity, \n",
    "- mkt_buy_filled_price, \n",
    "\n",
    "2nd, a stop loss sell order (STP), use two of the 1st trade's returned values as input, but set the stop price as - 10\n",
    "- shares = mkt_buy_quantity\n",
    "- price = mkt_buy_filled_price - 10\n",
    "\n",
    "3rd, a profit limit sell order (LMT), use the same two of the 1st trade's returned values as input, but set the shares as - 2, profit lmt price as + 10\n",
    "- shares = mkt_buy_quantity -2\n",
    "- price = mkt_buy_filled_price + 10"
   ]
  },
  {
   "cell_type": "code",
   "execution_count": 79,
   "metadata": {},
   "outputs": [
    {
     "name": "stdout",
     "output_type": "stream",
     "text": [
      "Market Buy Order: \n",
      "\t Filled \n",
      "\t for 10.0 shares \n",
      "\t @ 5271.0\n",
      "Stop Loss Order: \n",
      "\t PendingSubmit \n",
      "\t for 10.0 shares\n",
      "\t @ 5261.0\n",
      "Profit Order: \n",
      "\t PendingSubmit \n",
      "\t for 8.0 shares\n",
      "\t @ 5281.0\n",
      "Submitted\n"
     ]
    }
   ],
   "source": [
    "def mkt_buy(shares = 10):\n",
    "    mkt_buy_ord = MarketOrder('BUY', totalQuantity=shares)\n",
    "    mkt_buy_trades = ib.placeOrder(contract, mkt_buy_ord)\n",
    "    ib.sleep(2)\n",
    "    # pprint(mkt_buy_trades) #等2秒过后，这个时候的order已经被fill了，所以打印出来的信息，就已经包括了所有的order的信息了\n",
    "    print('Market Buy Order: \\n\\t {0} \\n\\t for {1} shares \\n\\t @ {2}'.format(mkt_buy_trades.orderStatus.status, mkt_buy_trades.fills[0].execution.shares, mkt_buy_trades.fills[0].execution.price))\n",
    "    return(mkt_buy_trades)\n",
    "\n",
    "\n",
    "def stp_sell(shares, price):\n",
    "    stp_ord = StopOrder(action='SELL', totalQuantity=shares, stopPrice=price, tif='GTC', outsideRth=True)\n",
    "    stp_trades = ib.placeOrder(contract, stp_ord)\n",
    "    # pprint(stp_trades)\n",
    "    print('Stop Loss Order: \\n\\t {0} \\n\\t for {1} shares\\n\\t @ {2}'.format(stp_trades.orderStatus.status, stp_trades.order.totalQuantity, stp_trades.order.auxPrice))\n",
    "    return(stp_trades)\n",
    "\n",
    "\n",
    "def lmt_sell(shares, price):\n",
    "    lmt_ord = LimitOrder(action='SELL', totalQuantity=shares, lmtPrice=price, tif='GTC')\n",
    "    lmt_trades = ib.placeOrder(contract, lmt_ord)\n",
    "    # pprint(lmt_trades)\n",
    "    print('Profit Order: \\n\\t {0} \\n\\t for {1} shares\\n\\t @ {2}'.format(lmt_trades.orderStatus.status, lmt_trades.order.totalQuantity, lmt_trades.order.lmtPrice))\n",
    "    return(lmt_trades)\n",
    "\n",
    "\n",
    "#1, market price buy order \n",
    "put_mkt_buy_quantity = int(input('How many shares to buy?(Default = 10)') or '10')\n",
    "put_mkt_buy_trade = mkt_buy(put_mkt_buy_quantity)\n",
    "\n",
    "put_mkt_buy_trade_filled_price = put_mkt_buy_trade.fills[0].execution.price\n",
    "put_mkt_buy_trade_filled_quantity = put_mkt_buy_trade.fills[0].execution.shares\n",
    "\n",
    "#2, stop loss STP order\n",
    "put_stp_sell_trade = stp_sell(put_mkt_buy_trade_filled_quantity, put_mkt_buy_trade_filled_price - 10)\n",
    "\n",
    "\n",
    "#3, profit LMT order\n",
    "put_lmt_sell_trade = lmt_sell(put_mkt_buy_trade_filled_quantity - 2, put_mkt_buy_trade_filled_price + 10)\n",
    "ib.sleep(1)\n",
    "print(put_lmt_sell_trade.orderStatus.status)\n",
    "\n"
   ]
  },
  {
   "cell_type": "markdown",
   "metadata": {},
   "source": [
    "<span style=\"color:red; font-size: 30px\">\n",
    "adjust the stop loss order STP to proper price\n",
    "</span>\n"
   ]
  },
  {
   "cell_type": "code",
   "execution_count": 80,
   "metadata": {},
   "outputs": [
    {
     "name": "stdout",
     "output_type": "stream",
     "text": [
      "Current Stop Loss Order Price: 5261.0\n",
      "Stop Order Price now changed to 5270.0\n"
     ]
    }
   ],
   "source": [
    "assert put_stp_sell_trade in ib.openTrades()\n",
    "assert put_stp_sell_trade.orderStatus.status == 'PreSubmitted'\n",
    "\n",
    "print('Current Stop Loss Order Price: ' + str(put_stp_sell_trade.order.auxPrice))\n",
    "put_stp_sell_trade.order.auxPrice = float(input('What is the proper stop price? ')or put_stp_sell_trade.order.auxPrice)\n",
    "adj_stp_sell_trade = ib.placeOrder(contract, put_stp_sell_trade.order)\n",
    "print('Stop Order Price now changed to '+ str(put_stp_sell_trade.order.auxPrice))\n",
    "\n"
   ]
  },
  {
   "cell_type": "markdown",
   "metadata": {},
   "source": [
    "<span style=\"color:blue; font-size: 30px\">\n",
    "adjust the profit taken order LMT to proper shares numbers(if needed) and price\n",
    "</span>"
   ]
  },
  {
   "cell_type": "code",
   "execution_count": 81,
   "metadata": {},
   "outputs": [
    {
     "name": "stdout",
     "output_type": "stream",
     "text": [
      "Current Profit Taken Order Quantiny: 8.0\n",
      "Current Profit Taken Order Price: 5281.0\n",
      "Profit Taken Order LTM Quantity now changed to: 8.0\n",
      "Profit Taken Order LTM Price now changed to: 5272.0\n"
     ]
    }
   ],
   "source": [
    "assert put_lmt_sell_trade in ib.openTrades()\n",
    "assert put_lmt_sell_trade.orderStatus.status == 'Submitted'\n",
    "print('Current Profit Taken Order Quantiny: ' + str(put_lmt_sell_trade.order.totalQuantity))\n",
    "put_lmt_sell_trade.order.totalQuantity = float(input('Quantity number change to? (hit enter for no change)') or put_lmt_sell_trade.order.totalQuantity)\n",
    "\n",
    "print('Current Profit Taken Order Price: ' + str(put_lmt_sell_trade.order.lmtPrice))\n",
    "put_lmt_sell_trade.order.lmtPrice = float(input('What is the proper LMT price? ') or put_lmt_sell_trade.order.lmtPrice)\n",
    "adj_lmt_sell_trade = ib.placeOrder(contract, put_lmt_sell_trade.order)\n",
    "print('Profit Taken Order LTM Quantity now changed to: ' + str(put_lmt_sell_trade.order.totalQuantity))\n",
    "print('Profit Taken Order LTM Price now changed to: ' + str(put_lmt_sell_trade.order.lmtPrice))"
   ]
  },
  {
   "cell_type": "code",
   "execution_count": 89,
   "metadata": {},
   "outputs": [
    {
     "data": {
      "text/plain": [
       "True"
      ]
     },
     "execution_count": 89,
     "metadata": {},
     "output_type": "execute_result"
    }
   ],
   "source": [
    "not adj_stp_sell_trade.isActive()"
   ]
  },
  {
   "cell_type": "markdown",
   "metadata": {},
   "source": [
    "Profit orkder(adj_lmt_sell_trade) filled:\n",
    "- change stop order shares to: adj_stp_sell_trade.order.totalQuantity - adj_lmt_sell_trade.fills[0].execution.shares, which means from original number - profit taken order number\n",
    "- change stop order price to: put_mkt_buy_trade_filled_price - 2, which means market order - 2, two points lower than market order\n",
    "- then place a new trade using the above adjusted value"
   ]
  },
  {
   "cell_type": "code",
   "execution_count": null,
   "metadata": {},
   "outputs": [],
   "source": [
    "# profit order fill, stp order变更\n",
    "\n",
    "def after_lmt_then_stop_sell_trade(adj_lmt_sell_trade_inst, adj_stp_sell_trade_inst, put_mkt_buy_trade_filled_price_int, contract_inst):\n",
    "    adj_stp_sell_trade_inst.order.totalQuantity -= adj_lmt_sell_trade_inst.fills[0].execution.shares\n",
    "    adj_stp_sell_trade_inst.order.lmtPrice = put_mkt_buy_trade_filled_price_int - 2\n",
    "    post_lmt_then_stp_sell_trade = ib.placeOrder(contract_inst, adj_stp_sell_trade_inst.order)\n",
    "    print('Profit Taken Order Filled, \\n\\t sell {0} shares @ {1}'.format(adj_lmt_sell_trade_inst.order.totalQuantity,adj_lmt_sell_trade_inst.fills[0].execution.price))\n",
    "    print('Now STP changed to {0} shares @ {1}'.format(post_lmt_then_stp_sell_trade.order.order.totalQuantity, post_lmt_then_stp_sell_trade.order.auxPrice))\n",
    "    return(post_lmt_then_stp_sell_trade)\n",
    "\n"
   ]
  },
  {
   "cell_type": "markdown",
   "metadata": {},
   "source": [
    "Stop Loss Trade(adj_stp_sell_trade) filled:\n",
    "- cancel the profit taken order: adj_lmt_sell_trade.order"
   ]
  },
  {
   "cell_type": "code",
   "execution_count": 99,
   "metadata": {},
   "outputs": [],
   "source": [
    "def after_stp_then_lmt_sell_trade(adj_lmt_sell_trade_inst):\n",
    "    post_stp_then_lmt_sell_trade = ib.cancelOrder(adj_lmt_sell_trade_inst.order)\n",
    "    print('Stop Loss Order Filled: \\n\\t sell all {0} shares at stop loss price @ {1}'.format(post_stp_then_lmt_sell_trade.order.totalQuantity, post_stp_then_lmt_sell_trade.order.lmtPrice))\n",
    "    print('Cancel the Profit Taken Order')\n",
    "    return(post_stp_then_lmt_sell_trade)"
   ]
  },
  {
   "cell_type": "code",
   "execution_count": 100,
   "metadata": {},
   "outputs": [
    {
     "ename": "IndexError",
     "evalue": "list index out of range",
     "output_type": "error",
     "traceback": [
      "\u001b[0;31m---------------------------------------------------------------------------\u001b[0m",
      "\u001b[0;31mIndexError\u001b[0m                                Traceback (most recent call last)",
      "Cell \u001b[0;32mIn[100], line 6\u001b[0m\n\u001b[1;32m      4\u001b[0m \u001b[38;5;28;01melse\u001b[39;00m:\n\u001b[1;32m      5\u001b[0m     \u001b[38;5;28;01mif\u001b[39;00m \u001b[38;5;129;01mnot\u001b[39;00m adj_lmt_sell_trade\u001b[38;5;241m.\u001b[39misActive():\n\u001b[0;32m----> 6\u001b[0m         \u001b[38;5;28mprint\u001b[39m(\u001b[38;5;124m'\u001b[39m\u001b[38;5;124mProfit Taken Order Filled: \u001b[39m\u001b[38;5;130;01m\\n\u001b[39;00m\u001b[38;5;130;01m\\t\u001b[39;00m\u001b[38;5;124m sell \u001b[39m\u001b[38;5;132;01m{0}\u001b[39;00m\u001b[38;5;124m shares @ \u001b[39m\u001b[38;5;132;01m{1}\u001b[39;00m\u001b[38;5;124m'\u001b[39m\u001b[38;5;241m.\u001b[39mformat(adj_lmt_sell_trade\u001b[38;5;241m.\u001b[39morder\u001b[38;5;241m.\u001b[39mtotalQuantity, \u001b[43madj_lmt_sell_trade\u001b[49m\u001b[38;5;241;43m.\u001b[39;49m\u001b[43mfills\u001b[49m\u001b[43m[\u001b[49m\u001b[38;5;241;43m0\u001b[39;49m\u001b[43m]\u001b[49m\u001b[38;5;241m.\u001b[39mexecution\u001b[38;5;241m.\u001b[39mprice))\n\u001b[1;32m      7\u001b[0m         adj_stp_sell_trade\u001b[38;5;241m.\u001b[39morder\u001b[38;5;241m.\u001b[39mtotalQuantity \u001b[38;5;241m-\u001b[39m\u001b[38;5;241m=\u001b[39m adj_lmt_sell_trade\u001b[38;5;241m.\u001b[39mfills[\u001b[38;5;241m0\u001b[39m]\u001b[38;5;241m.\u001b[39mexecution\u001b[38;5;241m.\u001b[39mshares\n\u001b[1;32m      8\u001b[0m         adj_stp_sell_trade\u001b[38;5;241m.\u001b[39morder\u001b[38;5;241m.\u001b[39mlmtPrice \u001b[38;5;241m=\u001b[39m put_mkt_buy_trade_filled_price \u001b[38;5;241m-\u001b[39m \u001b[38;5;241m2\u001b[39m\n",
      "\u001b[0;31mIndexError\u001b[0m: list index out of range"
     ]
    }
   ],
   "source": [
    "while(adj_lmt_sell_trade.isActive() and adj_stp_sell_trade.isActive()):\n",
    "    continue\n",
    "\n",
    "else:\n",
    "    if not adj_lmt_sell_trade.isActive():\n",
    "        after_lmt_then_stop_sell_trade(adj_lmt_sell_trade, adj_stp_sell_trade, put_mkt_buy_trade_filled_price, contract)\n",
    "    elif not adj_stp_sell_trade.isActive():\n",
    "        after_stp_then_lmt_sell_trade(adj_lmt_sell_trade)\n"
   ]
  },
  {
   "cell_type": "code",
   "execution_count": 78,
   "metadata": {},
   "outputs": [
    {
     "name": "stdout",
     "output_type": "stream",
     "text": [
      "Stop Loss Order Filled: \n",
      "\t sell all 10.0 shares at stop loss price @ 5269.75\n",
      "Stop Loss Order Filled, cancel Profit Taken Order\n"
     ]
    }
   ],
   "source": [
    "# while(adj_lmt_sell_trade.isActive() and adj_stp_sell_trade.isActive()):\n",
    "#     continue\n",
    "\n",
    "# else:\n",
    "#     if (not adj_lmt_sell_trade.isActive()) and adj_lmt_sell_trade.orderStatus.status == 'Filled':\n",
    "#         print('Profit Taken Order Filled: \\n\\t sell {0} shares @ {1}'.format(adj_lmt_sell_trade.order.totalQuantity, adj_lmt_sell_trade.fills[0].execution.price))\n",
    "#         adj_stp_sell_trade.order.totalQuantity -= adj_lmt_sell_trade.fills[0].execution.shares\n",
    "#         adj_stp_sell_trade.order.lmtPrice = put_mkt_buy_trade_filled_price - 2\n",
    "#         after_lmt_stp_sell_trade = ib.placeOrder(contract, adj_stp_sell_trade.order)\n",
    "#         print('Profit Taken Order Filled, now STP changed to {0} shares @ {1}'.format(after_lmt_stp_sell_trade.order.totalQuantity, after_lmt_stp_sell_trade.order.auxPrice))\n",
    "#     elif (not adj_stp_sell_trade.isActive()) and adj_stp_sell_trade.orderStatus.status == 'Filled':\n",
    "#         print('Stop Loss Order Filled: \\n\\t sell all {0} shares at stop loss price @ {1}'.format(adj_stp_sell_trade.order.totalQuantity, adj_stp_sell_trade.fills[0].execution.price))\n",
    "#         after_stp_lmt_sell_trade = ib.cancelOrder(adj_lmt_sell_trade.order)\n",
    "#         print('Stop Loss Order Filled, cancel Profit Taken Order')\n"
   ]
  }
 ],
 "metadata": {
  "kernelspec": {
   "display_name": "Python 3",
   "language": "python",
   "name": "python3"
  },
  "language_info": {
   "codemirror_mode": {
    "name": "ipython",
    "version": 3
   },
   "file_extension": ".py",
   "mimetype": "text/x-python",
   "name": "python",
   "nbconvert_exporter": "python",
   "pygments_lexer": "ipython3",
   "version": "3.9.6"
  }
 },
 "nbformat": 4,
 "nbformat_minor": 2
}
