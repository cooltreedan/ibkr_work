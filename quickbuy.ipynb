{
 "cells": [
  {
   "cell_type": "code",
   "execution_count": 50,
   "metadata": {},
   "outputs": [
    {
     "data": {
      "text/plain": [
       "<IB connected to 10.0.0.209:7497 clientId=1>"
      ]
     },
     "execution_count": 50,
     "metadata": {},
     "output_type": "execute_result"
    }
   ],
   "source": [
    "from pprint import *\n",
    "from ib_insync import *\n",
    "util.startLoop()  # uncomment this line when in a notebook\n",
    "\n",
    "ib = IB() # making a IB class\n",
    "# ib.connect('127.0.0.1', 7497, clientId=5)\n",
    "ib.connect('10.0.0.209', 7497, clientId=1)"
   ]
  },
  {
   "cell_type": "code",
   "execution_count": 51,
   "metadata": {},
   "outputs": [
    {
     "name": "stdout",
     "output_type": "stream",
     "text": [
      "Future(conId=620731036, symbol='MES', lastTradeDateOrContractMonth='20240621', multiplier='5', exchange='CME', currency='USD', localSymbol='MESM4', tradingClass='MES')\n"
     ]
    }
   ],
   "source": [
    "f = Future(symbol='MES', lastTradeDateOrContractMonth='202406', exchange='CME', currency='USD') # valid instrument - Future\n",
    "contract = ib.qualifyContracts(f)[0]\n",
    "pprint(contract)"
   ]
  },
  {
   "cell_type": "code",
   "execution_count": 52,
   "metadata": {},
   "outputs": [
    {
     "name": "stdout",
     "output_type": "stream",
     "text": [
      "####################################################################################################\n",
      "Fill price is: 5274.0\n"
     ]
    },
    {
     "data": {
      "text/plain": [
       "True"
      ]
     },
     "execution_count": 52,
     "metadata": {},
     "output_type": "execute_result"
    }
   ],
   "source": [
    "# first, get a market order\n",
    "\n",
    "mkt_ord = MarketOrder('BUY', totalQuantity=10)\n",
    "mkt_trades = ib.placeOrder(contract, mkt_ord)\n",
    "\n",
    "# print('#' * 100)\n",
    "ib.sleep(2)\n",
    "# pprint(mkt_trades) #等2秒过后，这个时候的order已经被fill了，所以打印出来的信息，就已经包括了所有的order的信息了\n",
    "\n",
    "print('#' * 100)\n",
    "print('Fill price is: ' + str(mkt_trades.fills[0].execution.price))\n",
    "\n",
    "\n",
    "# second, get a STOP sell order\n",
    "\n",
    "stp_ord = StopOrder(action='SELL', totalQuantity=10, stopPrice=mkt_trades.fills[0].execution.price - 10, tif='GTC', outsideRth=True)\n",
    "stp_trades = ib.placeOrder(contract, stp_ord)\n",
    "# pprint(stp_trades) #看看这个order的stop lost price对不对\n",
    "\n",
    "\n",
    "# third get a profit taken limit order for 75-80% of the quantity\n",
    "\n",
    "lmt_ord = LimitOrder(action='SELL', totalQuantity=8, lmtPrice=mkt_trades.fills[0].execution.price + 10)\n",
    "lmt_trades = ib.placeOrder(contract, lmt_ord)\n",
    "\n",
    "# pprint(trades) #看看这个order的profit taken price对不对\n",
    "ib.sleep(2)\n"
   ]
  },
  {
   "cell_type": "code",
   "execution_count": 39,
   "metadata": {},
   "outputs": [
    {
     "name": "stdout",
     "output_type": "stream",
     "text": [
      "&&&&&&&&&&&&&&&&&&&&&&&&&&&&&&&&&&&&&&&&&&&&&&&&&&&&&&&&&&&&&&&&&&&&&&&&&&&&&&&&&&&&&&&&&&&&&&&&&&&&&&&&&&&&&&&&&&&&&&&&&&&&&&&&&&&&&&&&&&&&&&&&&&&&&&&&&&&&&&&&&&&&&&&&&&&&&&&&&&&&&&&&&&&&&&&&&&&&&&&&\n",
      "Trade(contract=Future(conId=620731036, symbol='MES', lastTradeDateOrContractMonth='20240621', multiplier='5', exchange='CME', currency='USD', localSymbol='MESM4', tradingClass='MES'), order=StopOrder(orderId=5, clientId=3, permId=1143270171, action='SELL', totalQuantity=10.0, lmtPrice=0.0, auxPrice=5245.5, tif='GTC', outsideRth=True), orderStatus=OrderStatus(orderId=5, status='Filled', filled=10.0, remaining=0.0, avgFillPrice=5242.0, permId=1143270171, parentId=0, lastFillPrice=5240.25, clientId=3, whyHeld='', mktCapPrice=0.0), fills=[Fill(contract=Future(conId=620731036, symbol='MES', lastTradeDateOrContractMonth='20240621', multiplier='5', exchange='CME', currency='USD', localSymbol='MESM4', tradingClass='MES'), execution=Execution(execId='000130e8.65fa133a.01.01', time=datetime.datetime(2024, 3, 20, 18, 44, 29, tzinfo=datetime.timezone.utc), acctNumber='DU8538876', exchange='CME', side='SLD', shares=1.0, price=5257.75, permId=1143270171, clientId=3, orderId=5, liquidation=0, cumQty=1.0, avgPrice=5257.75, orderRef='', evRule='', evMultiplier=0.0, modelCode='', lastLiquidity=1), commissionReport=CommissionReport(execId='000130e8.65fa133a.01.01', commission=0.62, currency='USD', realizedPNL=17.926667, yield_=0.0, yieldRedemptionDate=0), time=datetime.datetime(2024, 3, 20, 18, 44, 29, 173143, tzinfo=datetime.timezone.utc)), Fill(contract=Future(conId=620731036, symbol='MES', lastTradeDateOrContractMonth='20240621', multiplier='5', exchange='CME', currency='USD', localSymbol='MESM4', tradingClass='MES'), execution=Execution(execId='000130e8.65fa133c.01.01', time=datetime.datetime(2024, 3, 20, 18, 44, 29, tzinfo=datetime.timezone.utc), acctNumber='DU8538876', exchange='CME', side='SLD', shares=1.0, price=5240.25, permId=1143270171, clientId=3, orderId=5, liquidation=0, cumQty=2.0, avgPrice=5249.0, orderRef='', evRule='', evMultiplier=0.0, modelCode='', lastLiquidity=1), commissionReport=CommissionReport(execId='000130e8.65fa133c.01.01', commission=0.62, currency='USD', realizedPNL=-69.573333, yield_=0.0, yieldRedemptionDate=0), time=datetime.datetime(2024, 3, 20, 18, 44, 29, 201647, tzinfo=datetime.timezone.utc)), Fill(contract=Future(conId=620731036, symbol='MES', lastTradeDateOrContractMonth='20240621', multiplier='5', exchange='CME', currency='USD', localSymbol='MESM4', tradingClass='MES'), execution=Execution(execId='000130e8.65fa133d.01.01', time=datetime.datetime(2024, 3, 20, 18, 44, 29, tzinfo=datetime.timezone.utc), acctNumber='DU8538876', exchange='CME', side='SLD', shares=8.0, price=5240.25, permId=1143270171, clientId=3, orderId=5, liquidation=0, cumQty=10.0, avgPrice=5242.0, orderRef='', evRule='', evMultiplier=0.0, modelCode='', lastLiquidity=1), commissionReport=CommissionReport(execId='000130e8.65fa133d.01.01', commission=4.96, currency='USD', realizedPNL=-556.586667, yield_=0.0, yieldRedemptionDate=0), time=datetime.datetime(2024, 3, 20, 18, 44, 29, 208403, tzinfo=datetime.timezone.utc))], log=[TradeLogEntry(time=datetime.datetime(2024, 3, 20, 18, 31, 9, 707607, tzinfo=datetime.timezone.utc), status='PendingSubmit', message='', errorCode=0), TradeLogEntry(time=datetime.datetime(2024, 3, 20, 18, 31, 9, 806550, tzinfo=datetime.timezone.utc), status='PreSubmitted', message='', errorCode=0), TradeLogEntry(time=datetime.datetime(2024, 3, 20, 18, 44, 29, 173143, tzinfo=datetime.timezone.utc), status='PreSubmitted', message='Fill 1.0@5257.75', errorCode=0), TradeLogEntry(time=datetime.datetime(2024, 3, 20, 18, 44, 29, 173824, tzinfo=datetime.timezone.utc), status='PreSubmitted', message='', errorCode=0), TradeLogEntry(time=datetime.datetime(2024, 3, 20, 18, 44, 29, 177704, tzinfo=datetime.timezone.utc), status='Submitted', message='', errorCode=0), TradeLogEntry(time=datetime.datetime(2024, 3, 20, 18, 44, 29, 201647, tzinfo=datetime.timezone.utc), status='Submitted', message='Fill 1.0@5240.25', errorCode=0), TradeLogEntry(time=datetime.datetime(2024, 3, 20, 18, 44, 29, 202365, tzinfo=datetime.timezone.utc), status='Submitted', message='', errorCode=0), TradeLogEntry(time=datetime.datetime(2024, 3, 20, 18, 44, 29, 208403, tzinfo=datetime.timezone.utc), status='Submitted', message='Fill 8.0@5240.25', errorCode=0), TradeLogEntry(time=datetime.datetime(2024, 3, 20, 18, 44, 29, 209192, tzinfo=datetime.timezone.utc), status='Filled', message='', errorCode=0)], advancedError='')\n",
      "####################################################################################################\n",
      "Trade(contract=Future(conId=620731036, symbol='MES', lastTradeDateOrContractMonth='20240621', multiplier='5', exchange='CME', currency='USD', localSymbol='MESM4', tradingClass='MES'), order=LimitOrder(orderId=6, clientId=3, permId=1143270172, action='SELL', totalQuantity=8.0, lmtPrice=5265.5, auxPrice=0.0), orderStatus=OrderStatus(orderId=6, status='Filled', filled=8.0, remaining=0.0, avgFillPrice=5265.5, permId=1143270172, parentId=0, lastFillPrice=5265.5, clientId=3, whyHeld='', mktCapPrice=0.0), fills=[Fill(contract=Future(conId=620731036, symbol='MES', lastTradeDateOrContractMonth='20240621', multiplier='5', exchange='CME', currency='USD', localSymbol='MESM4', tradingClass='MES'), execution=Execution(execId='000130e8.65fa1333.01.01', time=datetime.datetime(2024, 3, 20, 18, 42, 32, tzinfo=datetime.timezone.utc), acctNumber='DU8538876', exchange='CME', side='SLD', shares=8.0, price=5265.5, permId=1143270172, clientId=3, orderId=6, liquidation=0, cumQty=8.0, avgPrice=5265.5, orderRef='', evRule='', evMultiplier=0.0, modelCode='', lastLiquidity=1), commissionReport=CommissionReport(execId='000130e8.65fa1333.01.01', commission=4.96, currency='USD', realizedPNL=453.413333, yield_=0.0, yieldRedemptionDate=0), time=datetime.datetime(2024, 3, 20, 18, 42, 32, 693578, tzinfo=datetime.timezone.utc))], log=[TradeLogEntry(time=datetime.datetime(2024, 3, 20, 18, 31, 11, 709297, tzinfo=datetime.timezone.utc), status='PendingSubmit', message='', errorCode=0), TradeLogEntry(time=datetime.datetime(2024, 3, 20, 18, 31, 11, 830278, tzinfo=datetime.timezone.utc), status='Submitted', message='', errorCode=0), TradeLogEntry(time=datetime.datetime(2024, 3, 20, 18, 42, 32, 693578, tzinfo=datetime.timezone.utc), status='Submitted', message='Fill 8.0@5265.5', errorCode=0), TradeLogEntry(time=datetime.datetime(2024, 3, 20, 18, 42, 32, 694699, tzinfo=datetime.timezone.utc), status='Filled', message='', errorCode=0)], advancedError='')\n",
      "####################################################################################################\n",
      "STP Order -----> Order ID: 5     Order Status: PreSubmitted\n",
      "LMT Order -----> Order ID: 6     Order Status: Submitted\n"
     ]
    }
   ],
   "source": [
    "# 查看一下现在active的order\n",
    "\n",
    "open_ord = ib.reqOpenOrders()\n",
    "\n",
    "# pprint(open_ord)\n",
    "\n",
    "for ord in open_ord:\n",
    "    # print(ord.order)\n",
    "    if ord.order.orderType == 'STP':\n",
    "        existing_stp_ord = ord\n",
    "        print('Stop loss order -----> ' + str(ord.order.totalQuantity) + ' at the price: ' + str(ord.order.auxPrice))\n",
    "        # print(ord.order.orderId)\n",
    "        stp_ord_id = ord.order.orderId\n",
    "        # print(ord.orderStatus)\n",
    "        stp_ord_status = ord.orderStatus.status\n",
    "        # print('#' * 100)\n",
    "    if ord.order.orderType == 'LMT':\n",
    "        existing_lmt_ord = ord\n",
    "        print('Profit taken order -----> ' + str(ord.order.totalQuantity) + 'at the price: ' + str(ord.order.lmtPrice))\n",
    "        # print(ord.order.orderId)\n",
    "        lmt_ord_id = ord.order.orderId\n",
    "        # print(ord.orderStatus)\n",
    "        lmt_ord_status = ord.orderStatus.status\n",
    "        # print('#' * 100)\n",
    "\n",
    "print('&&' * 100)\n",
    "pprint(existing_stp_ord)\n",
    "print('#' * 100)\n",
    "pprint(existing_lmt_ord)\n",
    "print('#' * 100)\n",
    "print('STP Order ----->' + ' Order ID: ' + str(stp_ord_id) + '     Order Status: ' + stp_ord_status)\n",
    "print('LMT Order ----->' + ' Order ID: ' + str(lmt_ord_id) + '     Order Status: ' + lmt_ord_status )"
   ]
  },
  {
   "cell_type": "code",
   "execution_count": 93,
   "metadata": {},
   "outputs": [
    {
     "name": "stdout",
     "output_type": "stream",
     "text": [
      "STP Order ----->\n",
      "\tOrder ID: 5\n",
      "\tOrder Status: PreSubmitted\n",
      "\tQuantities: 10.0\n",
      "\tAt the price: 5264.0\n",
      "\n",
      "####################################################################################################\n"
     ]
    },
    {
     "ename": "UnboundLocalError",
     "evalue": "local variable 'existing_lmt_ord' referenced before assignment",
     "output_type": "error",
     "traceback": [
      "\u001b[0;31m---------------------------------------------------------------------------\u001b[0m",
      "\u001b[0;31mUnboundLocalError\u001b[0m                         Traceback (most recent call last)",
      "Cell \u001b[0;32mIn[93], line 29\u001b[0m\n\u001b[1;32m     23\u001b[0m     \u001b[38;5;28;01mreturn\u001b[39;00m(existing_stp_ord, existing_lmt_ord)\n\u001b[1;32m     27\u001b[0m \u001b[38;5;28;01mif\u001b[39;00m \u001b[38;5;18m__name__\u001b[39m \u001b[38;5;241m==\u001b[39m \u001b[38;5;124m'\u001b[39m\u001b[38;5;124m__main__\u001b[39m\u001b[38;5;124m'\u001b[39m:\n\u001b[0;32m---> 29\u001b[0m     current_open_order \u001b[38;5;241m=\u001b[39m \u001b[43mcheck_open_order\u001b[49m\u001b[43m(\u001b[49m\u001b[43m)\u001b[49m\n\u001b[1;32m     31\u001b[0m     pprint(current_open_order)\n",
      "Cell \u001b[0;32mIn[93], line 23\u001b[0m, in \u001b[0;36mcheck_open_order\u001b[0;34m()\u001b[0m\n\u001b[1;32m     16\u001b[0m         \u001b[38;5;28mprint\u001b[39m(\u001b[38;5;124m'\u001b[39m\u001b[38;5;124mLMT Order ----->\u001b[39m\u001b[38;5;124m'\u001b[39m \u001b[38;5;241m+\u001b[39m \u001b[38;5;124m'\u001b[39m\u001b[38;5;130;01m\\n\u001b[39;00m\u001b[38;5;124m'\u001b[39m\n\u001b[1;32m     17\u001b[0m                 \u001b[38;5;124m'\u001b[39m\u001b[38;5;130;01m\\t\u001b[39;00m\u001b[38;5;124m'\u001b[39m \u001b[38;5;241m+\u001b[39m \u001b[38;5;124m'\u001b[39m\u001b[38;5;124mOrder ID: \u001b[39m\u001b[38;5;124m'\u001b[39m \u001b[38;5;241m+\u001b[39m \u001b[38;5;28mstr\u001b[39m(\u001b[38;5;28mord\u001b[39m\u001b[38;5;241m.\u001b[39morder\u001b[38;5;241m.\u001b[39morderId) \u001b[38;5;241m+\u001b[39m \u001b[38;5;124m'\u001b[39m\u001b[38;5;130;01m\\n\u001b[39;00m\u001b[38;5;124m'\u001b[39m\n\u001b[1;32m     18\u001b[0m                 \u001b[38;5;124m'\u001b[39m\u001b[38;5;130;01m\\t\u001b[39;00m\u001b[38;5;124m'\u001b[39m \u001b[38;5;241m+\u001b[39m \u001b[38;5;124m'\u001b[39m\u001b[38;5;124mOrder Status: \u001b[39m\u001b[38;5;124m'\u001b[39m \u001b[38;5;241m+\u001b[39m \u001b[38;5;28mstr\u001b[39m(\u001b[38;5;28mord\u001b[39m\u001b[38;5;241m.\u001b[39morderStatus\u001b[38;5;241m.\u001b[39mstatus) \u001b[38;5;241m+\u001b[39m  \u001b[38;5;124m'\u001b[39m\u001b[38;5;130;01m\\n\u001b[39;00m\u001b[38;5;124m'\u001b[39m\n\u001b[1;32m     19\u001b[0m                 \u001b[38;5;124m'\u001b[39m\u001b[38;5;130;01m\\t\u001b[39;00m\u001b[38;5;124m'\u001b[39m \u001b[38;5;241m+\u001b[39m \u001b[38;5;124m'\u001b[39m\u001b[38;5;124mQuantities: \u001b[39m\u001b[38;5;124m'\u001b[39m \u001b[38;5;241m+\u001b[39m \u001b[38;5;28mstr\u001b[39m(\u001b[38;5;28mord\u001b[39m\u001b[38;5;241m.\u001b[39morder\u001b[38;5;241m.\u001b[39mtotalQuantity) \u001b[38;5;241m+\u001b[39m  \u001b[38;5;124m'\u001b[39m\u001b[38;5;130;01m\\n\u001b[39;00m\u001b[38;5;124m'\u001b[39m\n\u001b[1;32m     20\u001b[0m                 \u001b[38;5;124m'\u001b[39m\u001b[38;5;130;01m\\t\u001b[39;00m\u001b[38;5;124m'\u001b[39m \u001b[38;5;241m+\u001b[39m \u001b[38;5;124m'\u001b[39m\u001b[38;5;124mAt the price: \u001b[39m\u001b[38;5;124m'\u001b[39m \u001b[38;5;241m+\u001b[39m \u001b[38;5;28mstr\u001b[39m(\u001b[38;5;28mord\u001b[39m\u001b[38;5;241m.\u001b[39morder\u001b[38;5;241m.\u001b[39mlmtPrice) \u001b[38;5;241m+\u001b[39m \u001b[38;5;124m'\u001b[39m\u001b[38;5;130;01m\\n\u001b[39;00m\u001b[38;5;124m'\u001b[39m)\n\u001b[1;32m     21\u001b[0m         \u001b[38;5;28mprint\u001b[39m(\u001b[38;5;124m'\u001b[39m\u001b[38;5;124m#\u001b[39m\u001b[38;5;124m'\u001b[39m \u001b[38;5;241m*\u001b[39m \u001b[38;5;241m100\u001b[39m)\n\u001b[0;32m---> 23\u001b[0m \u001b[38;5;28;01mreturn\u001b[39;00m(existing_stp_ord, \u001b[43mexisting_lmt_ord\u001b[49m)\n",
      "\u001b[0;31mUnboundLocalError\u001b[0m: local variable 'existing_lmt_ord' referenced before assignment"
     ]
    }
   ],
   "source": [
    "def check_open_order():\n",
    "    open_ord = ib.reqOpenOrders()\n",
    "\n",
    "    for ord in open_ord:\n",
    "        if ord.order.orderType == 'STP':\n",
    "            existing_stp_ord = ord\n",
    "            print('STP Order ----->' + '\\n'\n",
    "                    '\\t' + 'Order ID: ' + str(ord.order.orderId) + '\\n'\n",
    "                    '\\t' + 'Order Status: ' + str(ord.orderStatus.status) +  '\\n'\n",
    "                    '\\t' + 'Quantities: ' + str(ord.order.totalQuantity) +  '\\n'\n",
    "                    '\\t' + 'At the price: ' + str(ord.order.auxPrice) + '\\n')\n",
    "            print('#' * 100)\n",
    "\n",
    "        if ord.order.orderType == 'LMT':\n",
    "            existing_lmt_ord = ord\n",
    "            print('LMT Order ----->' + '\\n'\n",
    "                    '\\t' + 'Order ID: ' + str(ord.order.orderId) + '\\n'\n",
    "                    '\\t' + 'Order Status: ' + str(ord.orderStatus.status) +  '\\n'\n",
    "                    '\\t' + 'Quantities: ' + str(ord.order.totalQuantity) +  '\\n'\n",
    "                    '\\t' + 'At the price: ' + str(ord.order.lmtPrice) + '\\n')\n",
    "            print('#' * 100)\n",
    "\n",
    "    return(existing_stp_ord, existing_lmt_ord)\n",
    "\n",
    "\n",
    "\n",
    "if __name__ == '__main__':\n",
    "\n",
    "    current_open_order = check_open_order()\n",
    "\n",
    "    pprint(current_open_order)\n"
   ]
  }
 ],
 "metadata": {
  "kernelspec": {
   "display_name": "Python 3",
   "language": "python",
   "name": "python3"
  },
  "language_info": {
   "codemirror_mode": {
    "name": "ipython",
    "version": 3
   },
   "file_extension": ".py",
   "mimetype": "text/x-python",
   "name": "python",
   "nbconvert_exporter": "python",
   "pygments_lexer": "ipython3",
   "version": "3.9.6"
  }
 },
 "nbformat": 4,
 "nbformat_minor": 2
}
