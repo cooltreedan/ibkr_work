{
 "cells": [
  {
   "cell_type": "markdown",
   "metadata": {},
   "source": [
    "### Connect to IB:"
   ]
  },
  {
   "cell_type": "code",
   "execution_count": 1,
   "metadata": {},
   "outputs": [
    {
     "data": {
      "text/plain": [
       "<IB connected to 127.0.0.1:7497 clientId=2>"
      ]
     },
     "execution_count": 1,
     "metadata": {},
     "output_type": "execute_result"
    },
    {
     "name": "stderr",
     "output_type": "stream",
     "text": [
      "Error 201, reqId 84: Order rejected - reason:YOUR ORDER IS NOT ACCEPTED. IN ORDER TO OBTAIN THE DESIRED POSITION YOUR NET LIQ [1002709.80 USD] MUST EXCEED THE MARGIN REQ [4802859.60 USD]\n",
      "Canceled order: Trade(contract=Future(conId=620731036, symbol='MES', lastTradeDateOrContractMonth='20240621', multiplier='5', exchange='CME', currency='USD', localSymbol='MESM4', tradingClass='MES'), order=LimitOrder(orderId=84, clientId=2, permId=1758116108, action='SELL', totalQuantity=7.0, lmtPrice=5307.25, auxPrice=0.0, tif='GTC'), orderStatus=OrderStatus(orderId=84, status='Cancelled', filled=0.0, remaining=7.0, avgFillPrice=0.0, permId=1758116108, parentId=0, lastFillPrice=0.0, clientId=2, whyHeld='', mktCapPrice=0.0), fills=[], log=[TradeLogEntry(time=datetime.datetime(2024, 4, 1, 15, 10, 22, 587141, tzinfo=datetime.timezone.utc), status='PendingSubmit', message='', errorCode=0), TradeLogEntry(time=datetime.datetime(2024, 4, 1, 15, 10, 22, 791028, tzinfo=datetime.timezone.utc), status='Submitted', message='', errorCode=0), TradeLogEntry(time=datetime.datetime(2024, 4, 1, 15, 14, 25, 905427, tzinfo=datetime.timezone.utc), status='Submitted', message='Modify', errorCode=0), TradeLogEntry(time=datetime.datetime(2024, 4, 1, 15, 14, 25, 997015, tzinfo=datetime.timezone.utc), status='Submitted', message='', errorCode=0), TradeLogEntry(time=datetime.datetime(2024, 4, 1, 15, 38, 30, 778357, tzinfo=datetime.timezone.utc), status='Submitted', message='Modify', errorCode=0), TradeLogEntry(time=datetime.datetime(2024, 4, 1, 15, 38, 30, 868688, tzinfo=datetime.timezone.utc), status='Submitted', message='Modified', errorCode=0), TradeLogEntry(time=datetime.datetime(2024, 4, 1, 15, 38, 30, 887707, tzinfo=datetime.timezone.utc), status='Cancelled', message='Error 201, reqId 84: Order rejected - reason:YOUR ORDER IS NOT ACCEPTED. IN ORDER TO OBTAIN THE DESIRED POSITION YOUR NET LIQ [1002709.80 USD] MUST EXCEED THE MARGIN REQ [4802859.60 USD]', errorCode=201)], advancedError='')\n",
      "Error 10147, reqId 84: OrderId 84 that needs to be cancelled is not found.\n",
      "Error 201, reqId 87: Order rejected - reason:YOUR ORDER IS NOT ACCEPTED. IN ORDER TO OBTAIN THE DESIRED POSITION YOUR NET LIQ [1002695.43 USD] MUST EXCEED THE MARGIN REQ [4794682.20 USD]\n",
      "Canceled order: Trade(contract=Future(conId=620731036, symbol='MES', lastTradeDateOrContractMonth='20240621', multiplier='5', exchange='CME', currency='USD', localSymbol='MESM4', tradingClass='MES'), order=LimitOrder(orderId=87, clientId=2, permId=1758116111, action='SELL', totalQuantity=8.0, lmtPrice=5295.5, auxPrice=0.0, tif='GTC'), orderStatus=OrderStatus(orderId=87, status='Cancelled', filled=0.0, remaining=8.0, avgFillPrice=0.0, permId=1758116111, parentId=0, lastFillPrice=0.0, clientId=2, whyHeld='', mktCapPrice=0.0), fills=[], log=[TradeLogEntry(time=datetime.datetime(2024, 4, 1, 15, 57, 33, 377404, tzinfo=datetime.timezone.utc), status='PendingSubmit', message='', errorCode=0), TradeLogEntry(time=datetime.datetime(2024, 4, 1, 15, 57, 33, 574206, tzinfo=datetime.timezone.utc), status='Submitted', message='', errorCode=0), TradeLogEntry(time=datetime.datetime(2024, 4, 1, 15, 58, 7, 604636, tzinfo=datetime.timezone.utc), status='Submitted', message='Modify', errorCode=0), TradeLogEntry(time=datetime.datetime(2024, 4, 1, 15, 58, 8, 598641, tzinfo=datetime.timezone.utc), status='Submitted', message='Modified', errorCode=0), TradeLogEntry(time=datetime.datetime(2024, 4, 1, 15, 58, 8, 606293, tzinfo=datetime.timezone.utc), status='Cancelled', message='Error 201, reqId 87: Order rejected - reason:YOUR ORDER IS NOT ACCEPTED. IN ORDER TO OBTAIN THE DESIRED POSITION YOUR NET LIQ [1002695.43 USD] MUST EXCEED THE MARGIN REQ [4794682.20 USD]', errorCode=201)], advancedError='')\n"
     ]
    }
   ],
   "source": [
    "from pprint import *\n",
    "from ib_insync import *\n",
    "util.startLoop()  # uncomment this line when in a notebook\n",
    "\n",
    "ib = IB() # making a IB class\n",
    "ib.connect('127.0.0.1', 7497, clientId=2)\n",
    "# ib.connect('10.0.0.209', 7497, clientId=1)"
   ]
  },
  {
   "cell_type": "markdown",
   "metadata": {},
   "source": [
    "### Verify contract, here use Future"
   ]
  },
  {
   "cell_type": "code",
   "execution_count": 2,
   "metadata": {},
   "outputs": [
    {
     "name": "stdout",
     "output_type": "stream",
     "text": [
      "Future(conId=620731036, symbol='MES', lastTradeDateOrContractMonth='20240621', multiplier='5', exchange='CME', currency='USD', localSymbol='MESM4', tradingClass='MES')\n"
     ]
    }
   ],
   "source": [
    "f = Future(symbol='MES', lastTradeDateOrContractMonth='202406', exchange='CME', currency='USD') # valid instrument - Future\n",
    "contract = ib.qualifyContracts(f)[0]\n",
    "pprint(contract)"
   ]
  },
  {
   "cell_type": "markdown",
   "metadata": {},
   "source": [
    "1st, a buy market order for X (default = 10) shares, return the trade.\n",
    "in the function, 3 values are used for print: \n",
    "- mkt_buy_whether_filled, \n",
    "- mkt_buy_quantity, \n",
    "- mkt_buy_filled_price, \n",
    "\n",
    "2nd, a stop loss sell order (STP), use two of the 1st trade's returned values as input, but set the stop price as - 10\n",
    "- shares = mkt_buy_quantity\n",
    "- price = mkt_buy_filled_price - 10\n",
    "\n",
    "3rd, a profit limit sell order (LMT), use the same two of the 1st trade's returned values as input, but set the shares as - 2, profit lmt price as + 10\n",
    "- shares = mkt_buy_quantity -2\n",
    "- price = mkt_buy_filled_price + 10"
   ]
  },
  {
   "cell_type": "code",
   "execution_count": 16,
   "metadata": {},
   "outputs": [
    {
     "name": "stdout",
     "output_type": "stream",
     "text": [
      "Market Buy Order: \n",
      "\t Filled \n",
      "\t for 10.0 shares \n",
      "\t @ 5285.5\n",
      "Stop Loss Order: \n",
      "\t PendingSubmit \n",
      "\t for 10.0 shares\n",
      "\t @ 5275.5\n",
      "Profit Order: \n",
      "\t PendingSubmit \n",
      "\t for 8.0 shares\n",
      "\t @ 5295.5\n",
      "Submitted\n"
     ]
    }
   ],
   "source": [
    "def mkt_buy(shares = 10):\n",
    "    mkt_buy_ord = MarketOrder('BUY', totalQuantity=shares)\n",
    "    mkt_buy_trades = ib.placeOrder(contract, mkt_buy_ord)\n",
    "    ib.sleep(2)\n",
    "    # pprint(mkt_buy_trades) #等2秒过后，这个时候的order已经被fill了，所以打印出来的信息，就已经包括了所有的order的信息了\n",
    "    print('Market Buy Order: \\n\\t {0} \\n\\t for {1} shares \\n\\t @ {2}'.format(mkt_buy_trades.orderStatus.status, mkt_buy_trades.fills[0].execution.shares, mkt_buy_trades.fills[0].execution.price))\n",
    "    return(mkt_buy_trades)\n",
    "\n",
    "\n",
    "def stp_sell(shares, price):\n",
    "    stp_ord = StopOrder(action='SELL', totalQuantity=shares, stopPrice=price, tif='GTC', outsideRth=True)\n",
    "    stp_trades = ib.placeOrder(contract, stp_ord)\n",
    "    # pprint(stp_trades)\n",
    "    print('Stop Loss Order: \\n\\t {0} \\n\\t for {1} shares\\n\\t @ {2}'.format(stp_trades.orderStatus.status, stp_trades.order.totalQuantity, stp_trades.order.auxPrice))\n",
    "    return(stp_trades)\n",
    "\n",
    "\n",
    "def lmt_sell(shares, price):\n",
    "    lmt_ord = LimitOrder(action='SELL', totalQuantity=shares, lmtPrice=price, tif='GTC')\n",
    "    lmt_trades = ib.placeOrder(contract, lmt_ord)\n",
    "    # pprint(lmt_trades)\n",
    "    print('Profit Order: \\n\\t {0} \\n\\t for {1} shares\\n\\t @ {2}'.format(lmt_trades.orderStatus.status, lmt_trades.order.totalQuantity, lmt_trades.order.lmtPrice))\n",
    "    return(lmt_trades)\n",
    "\n",
    "\n",
    "#1, market price buy order \n",
    "put_mkt_buy_quantity = int(input('How many shares to buy? ') or '10')\n",
    "put_mkt_buy_trade = mkt_buy(put_mkt_buy_quantity)\n",
    "\n",
    "put_mkt_buy_trade_filled_price = put_mkt_buy_trade.fills[0].execution.price\n",
    "put_mkt_buy_trade_filled_quantity = put_mkt_buy_trade.fills[0].execution.shares\n",
    "\n",
    "#2, stop loss STP order\n",
    "put_stp_sell_trade = stp_sell(put_mkt_buy_trade_filled_quantity, put_mkt_buy_trade_filled_price - 10)\n",
    "\n",
    "\n",
    "#3, profit LMT order\n",
    "put_lmt_sell_trade = lmt_sell(put_mkt_buy_trade_filled_quantity - 2, put_mkt_buy_trade_filled_price + 10)\n",
    "ib.sleep(1)\n",
    "print(put_lmt_sell_trade.orderStatus.status)\n",
    "\n"
   ]
  },
  {
   "cell_type": "markdown",
   "metadata": {},
   "source": [
    "<span style=\"color:red; font-size: 30px\">\n",
    "adjust the stop loss order STP to proper price\n",
    "</span>\n"
   ]
  },
  {
   "cell_type": "code",
   "execution_count": 17,
   "metadata": {},
   "outputs": [
    {
     "name": "stdout",
     "output_type": "stream",
     "text": [
      "Current Stop Loss Order Price: 5275.5\n",
      "Stop Order Price now changed to 5283.0\n"
     ]
    }
   ],
   "source": [
    "assert put_stp_sell_trade in ib.openTrades()\n",
    "assert put_stp_sell_trade.orderStatus.status == 'PreSubmitted'\n",
    "\n",
    "print('Current Stop Loss Order Price: ' + str(put_stp_sell_trade.order.auxPrice))\n",
    "put_stp_sell_trade.order.auxPrice = float(input('What is the proper stop price? ')or put_stp_sell_trade.order.auxPrice)\n",
    "adj_stp_sell_trade = ib.placeOrder(contract, put_stp_sell_trade.order)\n",
    "print('Stop Order Price now changed to '+ str(put_stp_sell_trade.order.auxPrice))\n",
    "\n"
   ]
  },
  {
   "cell_type": "markdown",
   "metadata": {},
   "source": [
    "<span style=\"color:blue; font-size: 30px\">\n",
    "adjust the profit taken order LMT to proper shares numbers(if needed) and price\n",
    "</span>"
   ]
  },
  {
   "cell_type": "code",
   "execution_count": 19,
   "metadata": {},
   "outputs": [
    {
     "name": "stdout",
     "output_type": "stream",
     "text": [
      "Current Profit Taken Order Quantiny: 8.0\n",
      "Current Profit Taken Order Price: 5295.5\n",
      "Profit Taken Order LTM Quantity now changed to: 7.0\n",
      "Profit Taken Order LTM Price now changed to: 5287.0\n"
     ]
    }
   ],
   "source": [
    "assert put_lmt_sell_trade in ib.openTrades()\n",
    "assert put_lmt_sell_trade.orderStatus.status == 'Submitted'\n",
    "print('Current Profit Taken Order Quantiny: ' + str(put_lmt_sell_trade.order.totalQuantity))\n",
    "put_lmt_sell_trade.order.totalQuantity = float(input('Quantity number change to? (hit enter for no change)') or put_lmt_sell_trade.order.totalQuantity)\n",
    "\n",
    "print('Current Profit Taken Order Price: ' + str(put_lmt_sell_trade.order.lmtPrice))\n",
    "put_lmt_sell_trade.order.lmtPrice = float(input('What is the proper LMT price? ') or put_lmt_sell_trade.order.lmtPrice)\n",
    "adj_lmt_sell_trade = ib.placeOrder(contract, put_lmt_sell_trade.order)\n",
    "print('Profit Taken Order LTM Quantity now changed to: ' + str(put_lmt_sell_trade.order.totalQuantity))\n",
    "print('Profit Taken Order LTM Price now changed to: ' + str(put_lmt_sell_trade.order.lmtPrice))"
   ]
  },
  {
   "cell_type": "code",
   "execution_count": 21,
   "metadata": {},
   "outputs": [
    {
     "name": "stdout",
     "output_type": "stream",
     "text": [
      "Profit Taken Order Filled: \n",
      "\t sell 7.0 shares @ 5287.0\n",
      "Profit Taken Order Filled, now STP changed to 3.0 shares @ 5283.0\n"
     ]
    }
   ],
   "source": [
    "##### 很遗憾，not working as expected\n",
    "\n",
    "while (adj_lmt_sell_trade.orderStatus.status == 'Submitted' and adj_stp_sell_trade.orderStatus.status == 'PreSubmitted'):\n",
    "    continue\n",
    "else: \n",
    "    if adj_lmt_sell_trade.orderStatus.status == 'Filled':\n",
    "        print('Profit Taken Order Filled: \\n\\t sell {0} shares @ {1}'.format(adj_lmt_sell_trade.order.totalQuantity, adj_lmt_sell_trade.fills[0].execution.price))\n",
    "        adj_stp_sell_trade.order.totalQuantity -= adj_lmt_sell_trade.fills[0].execution.shares\n",
    "        adj_stp_sell_trade.order.lmtPrice = put_mkt_buy_trade_filled_price - 2\n",
    "        after_lmt_stp_sell_trade = ib.placeOrder(contract, adj_stp_sell_trade.order)\n",
    "        print('Profit Taken Order Filled, now STP changed to {0} shares @ {1}'.format(after_lmt_stp_sell_trade.order.totalQuantity, after_lmt_stp_sell_trade.order.auxPrice))\n",
    "    elif adj_stp_sell_trade.orderStatus.status == 'Filled':\n",
    "        print('Stop Loss Order Filled: \\n\\t sell all {0} shares at stop loss price @ {1}'.format(adj_stp_sell_trade.order.totalQuantity, adj_stp_sell_trade.fills[0].execution.price))\n",
    "        after_stp_lmt_sell_trade = ib.cancelOrder(adj_lmt_sell_trade.order)\n",
    "        print('Stop Loss Order Filled, cancel Profit Taken Order')\n",
    "\n",
    "\n"
   ]
  }
 ],
 "metadata": {
  "kernelspec": {
   "display_name": "Python 3",
   "language": "python",
   "name": "python3"
  },
  "language_info": {
   "codemirror_mode": {
    "name": "ipython",
    "version": 3
   },
   "file_extension": ".py",
   "mimetype": "text/x-python",
   "name": "python",
   "nbconvert_exporter": "python",
   "pygments_lexer": "ipython3",
   "version": "3.11.7"
  }
 },
 "nbformat": 4,
 "nbformat_minor": 2
}
