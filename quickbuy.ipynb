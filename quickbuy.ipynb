{
 "cells": [
  {
   "cell_type": "markdown",
   "metadata": {},
   "source": [
    "### Connect to IB:"
   ]
  },
  {
   "cell_type": "code",
   "execution_count": 28,
   "metadata": {},
   "outputs": [
    {
     "data": {
      "text/plain": [
       "<IB connected to 127.0.0.1:7497 clientId=2>"
      ]
     },
     "execution_count": 28,
     "metadata": {},
     "output_type": "execute_result"
    }
   ],
   "source": [
    "from pprint import *\n",
    "from ib_insync import *\n",
    "util.startLoop()  # uncomment this line when in a notebook\n",
    "\n",
    "ib = IB() # making a IB class\n",
    "ib.connect('127.0.0.1', 7497, clientId=2)\n",
    "# ib.connect('10.0.0.209', 7497, clientId=1)"
   ]
  },
  {
   "cell_type": "markdown",
   "metadata": {},
   "source": [
    "### Verify contract, here use Future"
   ]
  },
  {
   "cell_type": "code",
   "execution_count": 29,
   "metadata": {},
   "outputs": [
    {
     "name": "stdout",
     "output_type": "stream",
     "text": [
      "Future(conId=620731036, symbol='MES', lastTradeDateOrContractMonth='20240621', multiplier='5', exchange='CME', currency='USD', localSymbol='MESM4', tradingClass='MES')\n"
     ]
    }
   ],
   "source": [
    "f = Future(symbol='MES', lastTradeDateOrContractMonth='202406', exchange='CME', currency='USD') # valid instrument - Future\n",
    "contract = ib.qualifyContracts(f)[0]\n",
    "pprint(contract)"
   ]
  },
  {
   "cell_type": "markdown",
   "metadata": {},
   "source": [
    "##### 1st, a buy market order for X (default = 10) shares\n",
    "###### return 3 values: - mkt_buy_whether_filled, - mkt_buy_quantity, - mkt_buy_filled_price, \n",
    "##### 2nd, a stop loss sell order (STP), use the above returned value as input\n",
    "###### share: above return value - mkt_buy_quantity\n",
    "###### price: above return value - mkt_buy_filled_price - 10\n",
    "##### 3rd, a profit limit sell order (LMT), use the 1st order returned value as input\n",
    "###### share: 1st order returned value - mkt_buy_quantity -2\n",
    "###### price: above return value - mkt_buy_filled_price + 10"
   ]
  },
  {
   "cell_type": "code",
   "execution_count": 257,
   "metadata": {},
   "outputs": [
    {
     "ename": "IndexError",
     "evalue": "list index out of range",
     "output_type": "error",
     "traceback": [
      "\u001b[0;31m---------------------------------------------------------------------------\u001b[0m",
      "\u001b[0;31mIndexError\u001b[0m                                Traceback (most recent call last)",
      "Cell \u001b[0;32mIn[257], line 28\u001b[0m\n\u001b[1;32m     26\u001b[0m \u001b[38;5;66;03m#1, market price buy order \u001b[39;00m\n\u001b[1;32m     27\u001b[0m put_mkt_buy_quantity \u001b[38;5;241m=\u001b[39m \u001b[38;5;28mint\u001b[39m(\u001b[38;5;28minput\u001b[39m(\u001b[38;5;124m'\u001b[39m\u001b[38;5;124mHow many shares to buy? \u001b[39m\u001b[38;5;124m'\u001b[39m) \u001b[38;5;129;01mor\u001b[39;00m \u001b[38;5;124m'\u001b[39m\u001b[38;5;124m10\u001b[39m\u001b[38;5;124m'\u001b[39m)\n\u001b[0;32m---> 28\u001b[0m put_mkt_buy_trade \u001b[38;5;241m=\u001b[39m \u001b[43mmkt_buy\u001b[49m\u001b[43m(\u001b[49m\u001b[43mput_mkt_buy_quantity\u001b[49m\u001b[43m)\u001b[49m\n\u001b[1;32m     30\u001b[0m put_mkt_buy_trade_filled_price \u001b[38;5;241m=\u001b[39m put_mkt_buy_trade\u001b[38;5;241m.\u001b[39mfills[\u001b[38;5;241m0\u001b[39m]\u001b[38;5;241m.\u001b[39mexecution\u001b[38;5;241m.\u001b[39mprice\n\u001b[1;32m     31\u001b[0m put_mkt_buy_trade_filled_quantity \u001b[38;5;241m=\u001b[39m put_mkt_buy_trade\u001b[38;5;241m.\u001b[39mfills[\u001b[38;5;241m0\u001b[39m]\u001b[38;5;241m.\u001b[39mexecution\u001b[38;5;241m.\u001b[39mshares\n",
      "Cell \u001b[0;32mIn[257], line 6\u001b[0m, in \u001b[0;36mmkt_buy\u001b[0;34m(shares)\u001b[0m\n\u001b[1;32m      4\u001b[0m ib\u001b[38;5;241m.\u001b[39msleep(\u001b[38;5;241m2\u001b[39m)\n\u001b[1;32m      5\u001b[0m \u001b[38;5;66;03m# pprint(mkt_buy_trades) #等2秒过后，这个时候的order已经被fill了，所以打印出来的信息，就已经包括了所有的order的信息了\u001b[39;00m\n\u001b[0;32m----> 6\u001b[0m \u001b[38;5;28mprint\u001b[39m(\u001b[38;5;124m'\u001b[39m\u001b[38;5;124mMarket Buy Order: \u001b[39m\u001b[38;5;130;01m\\n\u001b[39;00m\u001b[38;5;130;01m\\t\u001b[39;00m\u001b[38;5;124m \u001b[39m\u001b[38;5;132;01m{0}\u001b[39;00m\u001b[38;5;124m \u001b[39m\u001b[38;5;130;01m\\n\u001b[39;00m\u001b[38;5;130;01m\\t\u001b[39;00m\u001b[38;5;124m for \u001b[39m\u001b[38;5;132;01m{1}\u001b[39;00m\u001b[38;5;124m shares \u001b[39m\u001b[38;5;130;01m\\n\u001b[39;00m\u001b[38;5;130;01m\\t\u001b[39;00m\u001b[38;5;124m @ \u001b[39m\u001b[38;5;132;01m{2}\u001b[39;00m\u001b[38;5;124m'\u001b[39m\u001b[38;5;241m.\u001b[39mformat(mkt_buy_trades\u001b[38;5;241m.\u001b[39morderStatus\u001b[38;5;241m.\u001b[39mstatus, \u001b[43mmkt_buy_trades\u001b[49m\u001b[38;5;241;43m.\u001b[39;49m\u001b[43mfills\u001b[49m\u001b[43m[\u001b[49m\u001b[38;5;241;43m0\u001b[39;49m\u001b[43m]\u001b[49m\u001b[38;5;241m.\u001b[39mexecution\u001b[38;5;241m.\u001b[39mshares, mkt_buy_trades\u001b[38;5;241m.\u001b[39mfills[\u001b[38;5;241m0\u001b[39m]\u001b[38;5;241m.\u001b[39mexecution\u001b[38;5;241m.\u001b[39mprice))\n\u001b[1;32m      7\u001b[0m \u001b[38;5;28;01mreturn\u001b[39;00m(mkt_buy_trades)\n",
      "\u001b[0;31mIndexError\u001b[0m: list index out of range"
     ]
    }
   ],
   "source": [
    "def mkt_buy(shares = 10):\n",
    "    mkt_buy_ord = MarketOrder('BUY', totalQuantity=shares)\n",
    "    mkt_buy_trades = ib.placeOrder(contract, mkt_buy_ord)\n",
    "    ib.sleep(2)\n",
    "    # pprint(mkt_buy_trades) #等2秒过后，这个时候的order已经被fill了，所以打印出来的信息，就已经包括了所有的order的信息了\n",
    "    print('Market Buy Order: \\n\\t {0} \\n\\t for {1} shares \\n\\t @ {2}'.format(mkt_buy_trades.orderStatus.status, mkt_buy_trades.fills[0].execution.shares, mkt_buy_trades.fills[0].execution.price))\n",
    "    return(mkt_buy_trades)\n",
    "\n",
    "\n",
    "def stp_sell(shares, price):\n",
    "    stp_ord = StopOrder(action='SELL', totalQuantity=shares, stopPrice=price, tif='GTC', outsideRth=True)\n",
    "    stp_trades = ib.placeOrder(contract, stp_ord)\n",
    "    # pprint(stp_trades)\n",
    "    print('Stop Loss Order: \\n\\t {0} \\n\\t for {1} shares\\n\\t @ {2}'.format(stp_trades.orderStatus.status, stp_trades.order.totalQuantity, stp_trades.order.auxPrice))\n",
    "    return(stp_trades)\n",
    "\n",
    "\n",
    "def lmt_sell(shares, price):\n",
    "    lmt_ord = LimitOrder(action='SELL', totalQuantity=shares, lmtPrice=price, tif='GTC')\n",
    "    lmt_trades = ib.placeOrder(contract, lmt_ord)\n",
    "    # pprint(lmt_trades)\n",
    "    print('Profit Order: \\n\\t {0} \\n\\t for {1} shares\\n\\t @ {2}'.format(lmt_trades.orderStatus.status, lmt_trades.order.totalQuantity, lmt_trades.order.lmtPrice))\n",
    "    return(lmt_trades)\n",
    "\n",
    "\n",
    "#1, market price buy order \n",
    "put_mkt_buy_quantity = int(input('How many shares to buy? ') or '10')\n",
    "put_mkt_buy_trade = mkt_buy(put_mkt_buy_quantity)\n",
    "\n",
    "put_mkt_buy_trade_filled_price = put_mkt_buy_trade.fills[0].execution.price\n",
    "put_mkt_buy_trade_filled_quantity = put_mkt_buy_trade.fills[0].execution.shares\n",
    "\n",
    "#2, stop loss STP order\n",
    "put_stp_sell_trade = stp_sell(put_mkt_buy_trade_filled_quantity, put_mkt_buy_trade_filled_price - 10)\n",
    "\n",
    "\n",
    "#3, profit LMT order\n",
    "put_lmt_sell_trade = lmt_sell(put_mkt_buy_trade_filled_quantity - 2, put_mkt_buy_trade_filled_price + 10)\n",
    "ib.sleep(1)\n",
    "print(put_lmt_sell_trade.orderStatus.status)\n",
    "\n"
   ]
  },
  {
   "cell_type": "markdown",
   "metadata": {},
   "source": [
    "<span style=\"color:red; font-size: 30px\">\n",
    "adjust the stop loss order STP to proper price\n",
    "</span>\n"
   ]
  },
  {
   "cell_type": "code",
   "execution_count": 245,
   "metadata": {},
   "outputs": [
    {
     "name": "stdout",
     "output_type": "stream",
     "text": [
      "Current Stop Loss Order Price: 5298.75\n",
      "Stop Order Price now changed to 5308.5\n"
     ]
    }
   ],
   "source": [
    "assert put_stp_sell_trade in ib.openTrades()\n",
    "assert put_stp_sell_trade.orderStatus.status == 'PreSubmitted'\n",
    "\n",
    "print('Current Stop Loss Order Price: ' + str(put_stp_sell_trade.order.auxPrice))\n",
    "put_stp_sell_trade.order.auxPrice = float(input('What is the proper stop price? ')or put_stp_sell_trade.order.auxPrice)\n",
    "adj_stp_sell_trade = ib.placeOrder(contract, put_stp_sell_trade.order)\n",
    "print('Stop Order Price now changed to '+ str(put_stp_sell_trade.order.auxPrice))\n",
    "\n"
   ]
  },
  {
   "cell_type": "markdown",
   "metadata": {},
   "source": [
    "<span style=\"color:blue; font-size: 30px\">\n",
    "adjust the profit taken order LMT to proper shares numbers(if needed) and price\n",
    "</span>"
   ]
  },
  {
   "cell_type": "code",
   "execution_count": 246,
   "metadata": {},
   "outputs": [
    {
     "name": "stdout",
     "output_type": "stream",
     "text": [
      "Current Profit Taken Order Quantiny: 8.0\n",
      "Current Profit Taken Order Price: 5318.75\n",
      "Profit Taken Order LTM Quantity now changed to: 8.0\n",
      "Profit Taken Order LTM Price now changed to: 5318.75\n"
     ]
    }
   ],
   "source": [
    "assert put_lmt_sell_trade in ib.openTrades()\n",
    "assert put_lmt_sell_trade.orderStatus.status == 'Submitted'\n",
    "print('Current Profit Taken Order Quantiny: ' + str(put_lmt_sell_trade.order.totalQuantity))\n",
    "put_lmt_sell_trade.order.totalQuantity = float(input('Quantity number change to? (hit enter for no change)') or put_lmt_sell_trade.order.totalQuantity)\n",
    "\n",
    "print('Current Profit Taken Order Price: ' + str(put_lmt_sell_trade.order.lmtPrice))\n",
    "put_lmt_sell_trade.order.lmtPrice = float(input('What is the proper LMT price? ') or put_lmt_sell_trade.order.lmtPrice)\n",
    "adj_lmt_sell_trade = ib.placeOrder(contract, put_lmt_sell_trade.order)\n",
    "print('Profit Taken Order LTM Quantity now changed to: ' + str(put_lmt_sell_trade.order.totalQuantity))\n",
    "print('Profit Taken Order LTM Price now changed to: ' + str(put_lmt_sell_trade.order.lmtPrice))\n"
   ]
  },
  {
   "cell_type": "code",
   "execution_count": null,
   "metadata": {},
   "outputs": [],
   "source": [
    "while (adj_lmt_sell_trade.orderStatus.status == 'Submitted' and adj_stp_sell_trade.orderStatus.status == 'PreSubmitted'):\n",
    "    continue\n",
    "else: \n",
    "    if adj_lmt_sell_trade.orderStatus.status == 'Filled':\n",
    "        adj_stp_sell_trade.order.totalQuantity -= adj_lmt_sell_trade.fills[0].execution.shares\n",
    "        adj_stp_sell_trade.order.lmtPrice = put_mkt_buy_trade_filled_price - 2\n",
    "        after_lmt_stp_sell_trade = ib.placeOrder(contract, adj_stp_sell_trade.order)\n",
    "        print('Profit Taken Order Filled, now STP changed to {0} shares @ {1}'.format(after_lmt_stp_sell_trade.order.totalQuantity, after_lmt_stp_sell_trade.order.auxPrice))\n",
    "    elif adj_stp_sell_trade.orderStatus.status == 'Filled': ##### 这里开始，没有验证了\n",
    "        after_stp_lmt_sell_trade = ib.cancelOrder(adj_lmt_sell_trade)\n",
    "        print('Stop Loss Order Filled, cancel Profit Taken Order')\n",
    "\n",
    "\n"
   ]
  },
  {
   "cell_type": "code",
   "execution_count": 256,
   "metadata": {},
   "outputs": [
    {
     "ename": "AttributeError",
     "evalue": "'IB' object has no attribute 'reqAllOpenOrdersOpenTrades'",
     "output_type": "error",
     "traceback": [
      "\u001b[0;31m---------------------------------------------------------------------------\u001b[0m",
      "\u001b[0;31mAttributeError\u001b[0m                            Traceback (most recent call last)",
      "Cell \u001b[0;32mIn[256], line 1\u001b[0m\n\u001b[0;32m----> 1\u001b[0m open_ord \u001b[38;5;241m=\u001b[39m \u001b[43mib\u001b[49m\u001b[38;5;241;43m.\u001b[39;49m\u001b[43mreqAllOpenOrdersOpenTrades\u001b[49m()\n",
      "\u001b[0;31mAttributeError\u001b[0m: 'IB' object has no attribute 'reqAllOpenOrdersOpenTrades'"
     ]
    }
   ],
   "source": [
    "open_ord = ib.reqAllOpenOrdersOpenTrades()\n"
   ]
  },
  {
   "cell_type": "code",
   "execution_count": 249,
   "metadata": {},
   "outputs": [
    {
     "name": "stdout",
     "output_type": "stream",
     "text": [
      "[]\n"
     ]
    }
   ],
   "source": [
    "pprint(open_ord)"
   ]
  }
 ],
 "metadata": {
  "kernelspec": {
   "display_name": "Python 3",
   "language": "python",
   "name": "python3"
  },
  "language_info": {
   "codemirror_mode": {
    "name": "ipython",
    "version": 3
   },
   "file_extension": ".py",
   "mimetype": "text/x-python",
   "name": "python",
   "nbconvert_exporter": "python",
   "pygments_lexer": "ipython3",
   "version": "3.11.7"
  }
 },
 "nbformat": 4,
 "nbformat_minor": 2
}
