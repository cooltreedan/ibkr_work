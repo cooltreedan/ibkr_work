{
 "cells": [
  {
   "cell_type": "code",
   "execution_count": null,
   "metadata": {},
   "outputs": [],
   "source": [
    "from pprint import *\n",
    "from ib_insync import *\n",
    "util.startLoop()  # uncomment this line when in a notebook\n",
    "\n",
    "ib = IB() # making a IB class\n",
    "ib.connect('127.0.0.1', 7497, clientId=4)"
   ]
  },
  {
   "cell_type": "code",
   "execution_count": null,
   "metadata": {},
   "outputs": [],
   "source": [
    "f = Future(symbol='MES', lastTradeDateOrContractMonth='202403', exchange='CME', currency='USD') # valid instrument - Future\n",
    "contract = ib.qualifyContracts(f)[0]\n",
    "pprint(contract)"
   ]
  },
  {
   "cell_type": "code",
   "execution_count": null,
   "metadata": {},
   "outputs": [],
   "source": [
    "# first, get a market order\n",
    "\n",
    "mkt_ord = MarketOrder('BUY', totalQuantity=10)\n",
    "mkt_trades = ib.placeOrder(contract, mkt_ord)\n",
    "\n",
    "# print('#' * 100)\n",
    "ib.sleep(2)\n",
    "# pprint(mkt_trades) #等2秒过后，这个时候的order已经被fill了，所以打印出来的信息，就已经包括了所有的order的信息了\n",
    "\n",
    "print('#' * 100)\n",
    "print('Fill price is: ' + str(mkt_trades.fills[0].execution.price))\n",
    "\n",
    "\n",
    "# second, get a STOP sell order\n",
    "\n",
    "stp_ord = StopOrder(action='SELL', totalQuantity=10, stopPrice=mkt_trades.fills[0].execution.price - 10, tif='GTC', outsideRth=True)\n",
    "stp_trades = ib.placeOrder(contract, stp_ord)\n",
    "\n",
    "ib.sleep(2)\n",
    "# pprint(stp_trades) #等2秒过后，看看这个order的stop lost price对不对\n",
    "\n",
    "\n",
    "# third get a profit taken limit order for 75-80% of the quantity\n",
    "\n",
    "lmt_ord = LimitOrder(action='SELL', totalQuantity=8, lmtPrice=mkt_trades.fills[0].execution.price + 10)\n",
    "lmt_trades = ib.placeOrder(contract, lmt_ord)\n",
    "\n",
    "ib.sleep(2)\n",
    "# pprint(trades) #等2秒过后，看看这个order的profit taken price对不对\n",
    "\n",
    "\n",
    "\n",
    "# 查看一下现在active的order\n",
    "\n",
    "open_ord = ib.reqOpenOrders()\n",
    "\n",
    "# pprint(open_ord)\n",
    "\n",
    "for ord in open_ord:\n",
    "    # print(ord.order)\n",
    "    if ord.order.orderType == 'STP':\n",
    "        existing_stp_ord = ord\n",
    "        print('Stop loss order -----> ' + str(ord.order.totalQuantity) + ' at the price: ' + str(ord.order.auxPrice))\n",
    "        # print(ord.order.orderId)\n",
    "        stp_ord_id = ord.order.orderId\n",
    "        # print(ord.orderStatus)\n",
    "        stp_ord_status = ord.orderStatus.status\n",
    "        # print('#' * 100)\n",
    "    if ord.order.orderType == 'LMT':\n",
    "        existing_lmt_ord = ord\n",
    "        print('Profit taken order -----> ' + str(ord.order.totalQuantity) + 'at the price: ' + str(ord.order.lmtPrice))\n",
    "        # print(ord.order.orderId)\n",
    "        lmt_ord_id = ord.order.orderId\n",
    "        # print(ord.orderStatus)\n",
    "        lmt_ord_status = ord.orderStatus.status\n",
    "        # print('#' * 100)\n",
    "\n",
    "print('&&' * 100)\n",
    "pprint(existing_stp_ord)\n",
    "print('#' * 100)\n",
    "pprint(existing_lmt_ord)\n",
    "print('#' * 100)\n",
    "print('STP Order ----->' + ' Order ID: ' + str(stp_ord_id) + '     Order Status: ' + stp_ord_status)\n",
    "print('LMT Order ----->' + ' Order ID: ' + str(lmt_ord_id) + '     Order Status: ' + lmt_ord_status )\n"
   ]
  }
 ],
 "metadata": {
  "language_info": {
   "name": "python"
  }
 },
 "nbformat": 4,
 "nbformat_minor": 2
}
