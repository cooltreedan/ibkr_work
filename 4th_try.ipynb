{
 "cells": [
  {
   "cell_type": "code",
   "execution_count": null,
   "metadata": {},
   "outputs": [
    {
     "name": "stdout",
     "output_type": "stream",
     "text": [
      "Start Order Status\n",
      "Submitted\n",
      "End Order Status\n",
      "Start Order Status\n",
      "Submitted\n",
      "End Order Status\n",
      "Start Order Status\n",
      "Cancelled\n",
      "End Order Status\n"
     ]
    }
   ],
   "source": [
    "from pprint import *\n",
    "import time\n",
    "from ib_insync import *\n",
    "util.startLoop()  # uncomment this line when in a notebook\n",
    "\n",
    "ib = IB() # making a IB class\n",
    "ib.connect('127.0.0.1', 7497, clientId=1)\n",
    "# ib.connect('10.0.0.209', 7497, clientId=4)"
   ]
  },
  {
   "cell_type": "markdown",
   "metadata": {},
   "source": [
    "### On a New Order"
   ]
  },
  {
   "cell_type": "code",
   "execution_count": 31,
   "metadata": {},
   "outputs": [],
   "source": [
    "def on_new_order(trade:Trade):\n",
    "    print('Start New Order')\n",
    "    print(trade.orderStatus.status)\n",
    "    print('End New Order')\n",
    "ib.newOrderEvent.clear()\n",
    "ib.newOrderEvent +=on_new_order"
   ]
  },
  {
   "cell_type": "code",
   "execution_count": 33,
   "metadata": {},
   "outputs": [
    {
     "data": {
      "text/plain": [
       "[Stock(conId=76792991, symbol='TSLA', exchange='SMART', primaryExchange='NASDAQ', currency='USD', localSymbol='TSLA', tradingClass='NMS')]"
      ]
     },
     "execution_count": 33,
     "metadata": {},
     "output_type": "execute_result"
    }
   ],
   "source": [
    "contract = Stock('TSLA', exchange='SMART', currency='USD')\n",
    "ib.qualifyContracts(contract)"
   ]
  },
  {
   "cell_type": "markdown",
   "metadata": {},
   "source": [
    "### On Order Status"
   ]
  },
  {
   "cell_type": "code",
   "execution_count": 32,
   "metadata": {},
   "outputs": [],
   "source": [
    "def on_order_status(trade:Trade):\n",
    "    print('Start Order Status')\n",
    "    print(trade.orderStatus.status)\n",
    "    print('End Order Status')\n",
    "\n",
    "ib.orderStatusEvent.clear()\n",
    "ib.orderStatusEvent+=on_order_status"
   ]
  },
  {
   "cell_type": "code",
   "execution_count": 34,
   "metadata": {},
   "outputs": [
    {
     "name": "stdout",
     "output_type": "stream",
     "text": [
      "Start New Order\n",
      "PendingSubmit\n",
      "End New Order\n"
     ]
    }
   ],
   "source": [
    "order = LimitOrder('BUY', totalQuantity=3, lmtPrice=140, outsideRth=True)\n",
    "trade = ib.placeOrder(contract, order)"
   ]
  },
  {
   "cell_type": "code",
   "execution_count": 35,
   "metadata": {},
   "outputs": [],
   "source": [
    "def on_order_modify(trade:Trade):\n",
    "    print('Start Order Modify')\n",
    "    print(trade.orderStatus.status)\n",
    "    print('End Order Modify')\n",
    "\n",
    "ib.orderModifyEvent.clear()\n",
    "ib.orderModifyEvent+=on_order_modify"
   ]
  },
  {
   "cell_type": "code",
   "execution_count": 36,
   "metadata": {},
   "outputs": [
    {
     "name": "stdout",
     "output_type": "stream",
     "text": [
      "Start Order Modify\n",
      "Submitted\n",
      "End Order Modify\n"
     ]
    }
   ],
   "source": [
    "order=trade.order\n",
    "order.lmtPrice = 145\n",
    "trade=ib.placeOrder(contract,order)"
   ]
  },
  {
   "cell_type": "markdown",
   "metadata": {},
   "source": [
    "### On Order Cancel"
   ]
  },
  {
   "cell_type": "code",
   "execution_count": 37,
   "metadata": {},
   "outputs": [],
   "source": [
    "def on_order_cancel(trade:Trade):\n",
    "    print('Start Order Cancel')\n",
    "    print(trade.orderStatus.status)\n",
    "    print('End Order Cancel')\n",
    "\n",
    "ib.cancelOrderEvent.clear()\n",
    "ib.cancelOrderEvent+=on_order_cancel"
   ]
  },
  {
   "cell_type": "code",
   "execution_count": 38,
   "metadata": {},
   "outputs": [
    {
     "name": "stdout",
     "output_type": "stream",
     "text": [
      "Start Order Cancel\n",
      "PendingCancel\n",
      "End Order Cancel\n",
      "Start Order Status\n",
      "PendingCancel\n",
      "End Order Status\n"
     ]
    },
    {
     "data": {
      "text/plain": [
       "Trade(contract=Stock(conId=76792991, symbol='TSLA', exchange='SMART', primaryExchange='NASDAQ', currency='USD', localSymbol='TSLA', tradingClass='NMS'), order=LimitOrder(orderId=93, clientId=1, permId=1915743554, action='BUY', totalQuantity=3.0, lmtPrice=145.0, auxPrice=0.0, outsideRth=True), orderStatus=OrderStatus(orderId=93, status='PendingCancel', filled=0.0, remaining=3.0, avgFillPrice=0.0, permId=1915743554, parentId=0, lastFillPrice=0.0, clientId=1, whyHeld='', mktCapPrice=0.0), fills=[], log=[TradeLogEntry(time=datetime.datetime(2024, 4, 5, 14, 47, 19, 179957, tzinfo=datetime.timezone.utc), status='PendingSubmit', message='', errorCode=0), TradeLogEntry(time=datetime.datetime(2024, 4, 5, 14, 47, 19, 322716, tzinfo=datetime.timezone.utc), status='Submitted', message='', errorCode=0), TradeLogEntry(time=datetime.datetime(2024, 4, 5, 14, 51, 15, 181471, tzinfo=datetime.timezone.utc), status='Submitted', message='Modify', errorCode=0), TradeLogEntry(time=datetime.datetime(2024, 4, 5, 14, 51, 15, 478678, tzinfo=datetime.timezone.utc), status='Submitted', message='Modified', errorCode=0), TradeLogEntry(time=datetime.datetime(2024, 4, 5, 16, 6, 4, 892203, tzinfo=datetime.timezone.utc), status='PendingCancel', message='', errorCode=0)], advancedError='')"
      ]
     },
     "execution_count": 38,
     "metadata": {},
     "output_type": "execute_result"
    }
   ],
   "source": [
    "ib.cancelOrder(trade.order)"
   ]
  },
  {
   "cell_type": "markdown",
   "metadata": {},
   "source": [
    "### On Excution Details"
   ]
  },
  {
   "cell_type": "code",
   "execution_count": null,
   "metadata": {},
   "outputs": [],
   "source": [
    "ib.exc"
   ]
  }
 ],
 "metadata": {
  "kernelspec": {
   "display_name": "Python 3",
   "language": "python",
   "name": "python3"
  },
  "language_info": {
   "codemirror_mode": {
    "name": "ipython",
    "version": 3
   },
   "file_extension": ".py",
   "mimetype": "text/x-python",
   "name": "python",
   "nbconvert_exporter": "python",
   "pygments_lexer": "ipython3",
   "version": "3.11.7"
  }
 },
 "nbformat": 4,
 "nbformat_minor": 2
}
