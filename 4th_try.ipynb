{
 "cells": [
  {
   "cell_type": "code",
   "execution_count": 1,
   "metadata": {},
   "outputs": [
    {
     "data": {
      "text/plain": [
       "<IB connected to 10.0.0.209:7497 clientId=4>"
      ]
     },
     "execution_count": 1,
     "metadata": {},
     "output_type": "execute_result"
    },
    {
     "name": "stderr",
     "output_type": "stream",
     "text": [
      "Value (Trade(contract=Stock(conId=15124833, symbol='NFLX', exchange='SMART', primaryExchange='NASDAQ', currency='USD', localSymbol='NFLX', tradingClass='NMS'), order=MarketOrder(orderId=9, clientId=4, permId=2124326729, action='BUY', totalQuantity=2.0, lmtPrice=0.0, auxPrice=0.0), orderStatus=OrderStatus(orderId=9, status='Filled', filled=2.0, remaining=0.0, avgFillPrice=636.23, permId=2124326729, parentId=0, lastFillPrice=636.23, clientId=4, whyHeld='', mktCapPrice=0.0), fills=[Fill(contract=Stock(conId=15124833, symbol='NFLX', exchange='SMART', primaryExchange='NASDAQ', currency='USD', localSymbol='NFLX', tradingClass='NMS'), execution=Execution(execId='00012ec5.660fa289.01.01', time=datetime.datetime(2024, 4, 4, 17, 24, 41, tzinfo=datetime.timezone.utc), acctNumber='DU8538876', exchange='CHX', side='BOT', shares=2.0, price=636.23, permId=2124326729, clientId=4, orderId=9, liquidation=0, cumQty=2.0, avgPrice=636.23, orderRef='', evRule='', evMultiplier=0.0, modelCode='', lastLiquidity=2), commissionReport=CommissionReport(execId='', commission=0.0, currency='', realizedPNL=0.0, yield_=0.0, yieldRedemptionDate=0), time=datetime.datetime(2024, 4, 4, 17, 24, 41, 366984, tzinfo=datetime.timezone.utc))], log=[TradeLogEntry(time=datetime.datetime(2024, 4, 4, 17, 24, 40, 552311, tzinfo=datetime.timezone.utc), status='PendingSubmit', message='', errorCode=0), TradeLogEntry(time=datetime.datetime(2024, 4, 4, 17, 24, 40, 705204, tzinfo=datetime.timezone.utc), status='Submitted', message='', errorCode=0), TradeLogEntry(time=datetime.datetime(2024, 4, 4, 17, 24, 41, 366984, tzinfo=datetime.timezone.utc), status='Submitted', message='Fill 2.0@636.23', errorCode=0), TradeLogEntry(time=datetime.datetime(2024, 4, 4, 17, 24, 41, 367506, tzinfo=datetime.timezone.utc), status='Filled', message='', errorCode=0)], advancedError=''),) caused exception for event Event<filledEvent, [[None, None, <function order_status at 0x11566a430>]]>\n",
      "Traceback (most recent call last):\n",
      "  File \"/Users/macintrash/Library/Python/3.9/lib/python/site-packages/eventkit/event.py\", line 202, in emit\n",
      "    result = func(*args)\n",
      "  File \"/var/folders/k6/7r4c3clj1p5_6s48qw6qkwf80000gn/T/ipykernel_27791/2314307884.py\", line 2, in order_status\n",
      "    if trade.OrderStatus.status == 'Filled':\n",
      "AttributeError: 'Trade' object has no attribute 'OrderStatus'\n",
      "Peer closed connection.\n"
     ]
    }
   ],
   "source": [
    "from pprint import *\n",
    "from ib_insync import *\n",
    "util.startLoop()  # uncomment this line when in a notebook\n",
    "\n",
    "ib = IB() # making a IB class\n",
    "# ib.connect('127.0.0.1', 7497, clientId=2)\n",
    "ib.connect('10.0.0.209', 7497, clientId=4)"
   ]
  },
  {
   "cell_type": "code",
   "execution_count": 5,
   "metadata": {},
   "outputs": [],
   "source": [
    "import time"
   ]
  },
  {
   "cell_type": "code",
   "execution_count": 2,
   "metadata": {},
   "outputs": [
    {
     "data": {
      "text/plain": [
       "[Stock(conId=15124833, symbol='NFLX', exchange='SMART', primaryExchange='NASDAQ', currency='USD', localSymbol='NFLX', tradingClass='NMS')]"
      ]
     },
     "execution_count": 2,
     "metadata": {},
     "output_type": "execute_result"
    }
   ],
   "source": [
    "nflx_contract = Stock('NFLX', 'SMART', 'USD')\n",
    "ib.qualifyContracts(nflx_contract)"
   ]
  },
  {
   "cell_type": "code",
   "execution_count": 3,
   "metadata": {},
   "outputs": [],
   "source": [
    "nflx_order = MarketOrder('BUY',2)"
   ]
  },
  {
   "cell_type": "code",
   "execution_count": 4,
   "metadata": {},
   "outputs": [],
   "source": [
    "def order_status(trade):\n",
    "    if trade.OrderStatus.status == 'Filled':\n",
    "        fill = trade.fills[-1]\n",
    "        print('{0} - {1} {2} {3} @ {4}'.format(fill.time, fill.execution.side, fill.contract.symbol, fill.execution.shares, fill.execution.avgPrice))"
   ]
  },
  {
   "cell_type": "code",
   "execution_count": 6,
   "metadata": {},
   "outputs": [],
   "source": [
    "trade = ib.placeOrder(nflx_contract, nflx_order)\n",
    "\n",
    "trade.filledEvent += order_status"
   ]
  },
  {
   "cell_type": "code",
   "execution_count": 7,
   "metadata": {},
   "outputs": [
    {
     "data": {
      "text/plain": [
       "Event<filledEvent, [[None, None, <function order_status at 0x11566a430>]]>"
      ]
     },
     "execution_count": 7,
     "metadata": {},
     "output_type": "execute_result"
    }
   ],
   "source": [
    "trade.filledEvent"
   ]
  }
 ],
 "metadata": {
  "kernelspec": {
   "display_name": "Python 3",
   "language": "python",
   "name": "python3"
  },
  "language_info": {
   "codemirror_mode": {
    "name": "ipython",
    "version": 3
   },
   "file_extension": ".py",
   "mimetype": "text/x-python",
   "name": "python",
   "nbconvert_exporter": "python",
   "pygments_lexer": "ipython3",
   "version": "3.9.6"
  }
 },
 "nbformat": 4,
 "nbformat_minor": 2
}
